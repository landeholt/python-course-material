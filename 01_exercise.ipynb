{
 "cells": [
  {
   "cell_type": "markdown",
   "metadata": {},
   "source": [
    "## Övning #1\n",
    "### 28 Augusti 2020\n",
    "\n",
    "#### Agenda för idag:\n",
    "- Bli mer bekväma att skriva pythonkod\n",
    "- Hur man kan analysera vad något är i python\n",
    "- Lära oss mer om pythons struktur\n",
    "    - Kommentarer\n",
    "    - Reserverade ord\n",
    "    - Identifierare\n",
    "    - Litteraler\n",
    "    - Variabler\n",
    "    - BONUS: Moduler\n",
    "- Lära oss mer om datatyper\n",
    "    - String\n",
    "    - Integer\n",
    "    - Float\n",
    "    - Boolean\n",
    "- Lära oss om funktioner"
   ]
  },
  {
   "cell_type": "markdown",
   "metadata": {},
   "source": [
    "## Analystips\n",
    "funktionen `type()` visar dig var din variabel är för något."
   ]
  },
  {
   "cell_type": "code",
   "execution_count": null,
   "metadata": {
    "tags": []
   },
   "outputs": [],
   "source": [
    "from helpers.human import Human # Egengjord modul som representerar en människa\n",
    "\n",
    "def func(): return\n",
    "\n",
    "print(type(42))\n",
    "print(type('John'))\n",
    "print(type(Human(name = 'John', age = 25)))\n",
    "print(type(func))\n",
    "print(type(print))\n"
   ]
  },
  {
   "cell_type": "markdown",
   "metadata": {},
   "source": []
  },
  {
   "cell_type": "code",
   "execution_count": null,
   "metadata": {},
   "outputs": [],
   "source": []
  },
  {
   "cell_type": "markdown",
   "metadata": {},
   "source": [
    "## Kommentarer\n",
    "\n",
    "Görs genom att börja med **# `<kommentar>`** eller inkapsla meningen med **'''`<kommentar>`'''**"
   ]
  },
  {
   "cell_type": "code",
   "execution_count": null,
   "metadata": {
    "tags": []
   },
   "outputs": [],
   "source": [
    "# Detta kommer inte att exekveras hos python, utan användas för att\n",
    "# förklara sin kod åt andra\n",
    "print('Detta kommer däremot synas!')"
   ]
  },
  {
   "cell_type": "markdown",
   "metadata": {},
   "source": [
    "## Reserverade ord\n",
    "Är ord som förklarar vad python ska göra med din kod.\n",
    "Det går att kategorisera dessa in i två typer:\n",
    "- Loop (repetition)\n",
    "- Logic (hur programmet beter sig beroende på input)\n",
    "\n",
    "Exempel på reserverade ord som kommer nedanför:\n",
    "`from`, `import`, `for`, `in`, `while`, `if`, `else`, `return`, `pass`"
   ]
  },
  {
   "cell_type": "code",
   "execution_count": null,
   "metadata": {
    "tags": []
   },
   "outputs": [],
   "source": [
    "# Loop exempel #1\n",
    "\n",
    "from time import sleep # inbyggd modul som gör att python kan sova\n",
    "for i in reversed(range(5)): \n",
    "    print(f't-{(i+1)} seconds left to liftoff!')\n",
    "    sleep(1) # python sover i en sekund\n",
    "\n",
    "print('🚀 Liftoff engaged!')\n"
   ]
  },
  {
   "cell_type": "code",
   "execution_count": null,
   "metadata": {
    "tags": []
   },
   "outputs": [],
   "source": [
    "# Loop exempel #2\n",
    "\n",
    "from time import sleep\n",
    "from random import randint # inbyggd modul som ger randomiserade siffror\n",
    "\n",
    "# Gruppens medlemmar som är här\n",
    "people_here = []\n",
    "# Gruppens medlemmar\n",
    "people_in_group = ['Simon', 'Nils', 'Marcus', 'Isak', 'Erik', 'John']\n",
    "\n",
    "while len(people_here) is not 3:\n",
    "    sleep(0.5)\n",
    "    person = people_in_group.pop(randint(0, len(people_in_group)-1))\n",
    "    people_here.append(person)\n",
    "    print(people_here)\n"
   ]
  },
  {
   "cell_type": "code",
   "execution_count": null,
   "metadata": {
    "collapsed": true,
    "jupyter": {
     "outputs_hidden": true
    }
   },
   "outputs": [],
   "source": [
    "# Logic exempel #1\n",
    "\n",
    "from helpers.gifs import sleeping, studying # egengjord modul\n",
    "\n",
    "def baby(sleepy = False):\n",
    "    if sleepy: return sleeping()\n",
    "    else: return studying()\n",
    "\n",
    "is_sleepy = True\n",
    "\n",
    "baby(False)\n"
   ]
  },
  {
   "cell_type": "code",
   "execution_count": null,
   "metadata": {
    "tags": []
   },
   "outputs": [],
   "source": [
    "# Logic exempel #2\n",
    "\n",
    "# x modulo 2\n",
    "def is_odd(value): return value % 2 == 1\n",
    "\n",
    "number = 0\n",
    "while number <= 10:\n",
    "    if is_odd(number): pass\n",
    "    else: print(number)\n",
    "    number += 1 # number = number + 1"
   ]
  },
  {
   "cell_type": "markdown",
   "metadata": {},
   "source": [
    "## Identiferare\n",
    "Är det vi brukar kalla för variabler.\n",
    "Några exempel på dessa från ovan exempel är:\n",
    "`number`, `people_here`, `people_in_group`\n",
    "\n",
    "Man brukar kunna säga att något är en variabel, om den representerar ett värde"
   ]
  },
  {
   "cell_type": "code",
   "execution_count": null,
   "metadata": {},
   "outputs": [],
   "source": [
    "# Identifierare exempel #1\n",
    "\n",
    "def func(variabel = 'data'): return variabel\n",
    "\n",
    "# func() är en function\n",
    "func()\n",
    "# variabel inuti func() är en identifierare som innehåller vår \"data\"\n"
   ]
  },
  {
   "cell_type": "markdown",
   "metadata": {},
   "source": [
    "## Litteraler (Datatyper)\n",
    "I python finns det **fyra** (4) inbyggda datatyper\n",
    "- integer `-42`, `1337`, `0`, `1e3`\n",
    "- float `3.14`, `1.0`, `1e-3`\n",
    "- string `\"går att göras med dubbelfnutt (\") eller enkelfnutt (')\"`\n",
    "- boolean `True`, `False` - __måste vara kapitaliserat__\n",
    "\n",
    "Olika datatyper har olika metoder inbyggda i sig."
   ]
  },
  {
   "cell_type": "code",
   "execution_count": null,
   "metadata": {
    "tags": []
   },
   "outputs": [],
   "source": [
    "# Litteraler exempel #1\n",
    "\n",
    "print('4' + '2')\n",
    "print(4 + 2)"
   ]
  },
  {
   "cell_type": "code",
   "execution_count": 29,
   "metadata": {
    "tags": []
   },
   "outputs": [
    {
     "output_type": "error",
     "ename": "TypeError",
     "evalue": "must be str, not int",
     "traceback": [
      "\u001b[0;31m---------------------------------------------------------------------------\u001b[0m",
      "\u001b[0;31mTypeError\u001b[0m                                 Traceback (most recent call last)",
      "\u001b[0;32m<ipython-input-29-c301de87d640>\u001b[0m in \u001b[0;36m<module>\u001b[0;34m\u001b[0m\n\u001b[1;32m      1\u001b[0m \u001b[0;31m# Litteraler exempel #2\u001b[0m\u001b[0;34m\u001b[0m\u001b[0;34m\u001b[0m\u001b[0m\n\u001b[0;32m----> 2\u001b[0;31m \u001b[0mprint\u001b[0m\u001b[0;34m(\u001b[0m\u001b[0;34m'4'\u001b[0m \u001b[0;34m+\u001b[0m \u001b[0;36m2\u001b[0m\u001b[0;34m)\u001b[0m\u001b[0;34m\u001b[0m\u001b[0m\n\u001b[0m",
      "\u001b[0;31mTypeError\u001b[0m: must be str, not int"
     ]
    }
   ],
   "source": [
    "# Litteraler exempel #2\n",
    "print('4' + 2)"
   ]
  },
  {
   "cell_type": "code",
   "execution_count": 30,
   "metadata": {
    "tags": []
   },
   "outputs": [
    {
     "output_type": "stream",
     "name": "stdout",
     "text": "True\nFalse\nFalse\nTrue\n"
    }
   ],
   "source": [
    "# Litteraler exempel #3\n",
    "kth_student = True\n",
    "life = 42\n",
    "print(kth_student) \n",
    "print(not kth_student)\n",
    "print(42 is 'life')\n",
    "print(42 is life)"
   ]
  },
  {
   "cell_type": "markdown",
   "metadata": {},
   "source": [
    "## Funktioner\n",
    "Majoriteten av python är uppgjort av __funktioner__ och klasser\n",
    "\n",
    "Man definerar en funktion genom att markera med __`def`__ `<funktions_namn>`\n"
   ]
  },
  {
   "cell_type": "code",
   "execution_count": null,
   "metadata": {
    "tags": []
   },
   "outputs": [],
   "source": [
    "def funk_huvud(formella_parametrar, andra_parameter):\n",
    "    funk_kropp = formella_parametrar\n",
    "    return funk_kropp\n",
    "    \n",
    "anropsparametrar = 'data'\n",
    "var = funk_huvud(anropsparametrar, ny_parameter)\n",
    "print(var)"
   ]
  },
  {
   "cell_type": "markdown",
   "metadata": {},
   "source": [
    "Genom att använda sig utav funktioner, så kan man upprepa kodens utförande på ett programatiskt sätt utan att koden ska vara otymplig\n",
    "\n",
    "Inuti varje funktion så är variablerna __lokala__,\n",
    "vilket betyder att de inte går att komma åt utanför funktionen."
   ]
  },
  {
   "cell_type": "code",
   "execution_count": 32,
   "metadata": {},
   "outputs": [
    {
     "output_type": "execute_result",
     "data": {
      "text/plain": "'hello gruppen'"
     },
     "metadata": {},
     "execution_count": 32
    }
   ],
   "source": [
    "# Funktion exempel #1\n",
    "\n",
    "def hello(name): return f'hello {name}'\n",
    "#hello()\n",
    "\n",
    "hello('gruppen')"
   ]
  },
  {
   "cell_type": "code",
   "execution_count": null,
   "metadata": {
    "tags": []
   },
   "outputs": [],
   "source": [
    "# Funktion exempel #2\n",
    "\n",
    "def highest_prime_to(value):\n",
    "    numbers = list(range(0, value + 1))\n",
    "    primes = []\n",
    "    for num in numbers:\n",
    "        if all([num % i for i in range(2, num)]):\n",
    "            primes.append(num)\n",
    "    return max(primes)\n",
    "\n",
    "print(highest_prime_to(42))\n",
    "\n",
    "print(highest_prime_to(1337))\n"
   ]
  },
  {
   "cell_type": "code",
   "execution_count": null,
   "metadata": {
    "tags": []
   },
   "outputs": [],
   "source": [
    "# Funktion exempel #3\n",
    "\n",
    "def _fib(n, a = 0, b = 1):\n",
    "    if n == 0: return a\n",
    "    if n == 1: return b\n",
    "    return _fib(n - 1, b, a + b)\n",
    "\n",
    "def fibonacci_sequence(size):\n",
    "    numbers = []\n",
    "    for i in range(size):\n",
    "        num = _fib(i)\n",
    "        numbers.append(num)\n",
    "    return numbers\n",
    "\n",
    "fibonacci_sequence(7)\n"
   ]
  },
  {
   "cell_type": "markdown",
   "metadata": {},
   "source": [
    "### Globala variabler och lokala variabler\n",
    "\n",
    "Det är bra att veta variabler inte är åtkomliga överallt i sitt program."
   ]
  },
  {
   "cell_type": "code",
   "execution_count": null,
   "metadata": {},
   "outputs": [],
   "source": []
  },
  {
   "cell_type": "code",
   "execution_count": null,
   "metadata": {
    "tags": []
   },
   "outputs": [],
   "source": [
    "# Funktion exempel #4\n",
    "\n",
    "def hemliga_variabler():\n",
    "    access_kort = 1337\n",
    "\n",
    "n0llan = 'har alltid mössa på sig'\n",
    "\n",
    "# try-except satser gör att ditt program inte crashar, utan ignorerar fallet som inte fungerar. I detta fallet printas vad som inte funkar\n",
    "try:\n",
    "    print(n0llan)\n",
    "    print(access_kort)\n",
    "except Exception as message:\n",
    "    print(message)"
   ]
  },
  {
   "cell_type": "code",
   "execution_count": null,
   "metadata": {},
   "outputs": [],
   "source": []
  }
 ],
 "metadata": {
  "kernelspec": {
   "display_name": "Python 3",
   "language": "python",
   "name": "python3"
  },
  "language_info": {
   "codemirror_mode": {
    "name": "ipython",
    "version": 3
   },
   "file_extension": ".py",
   "mimetype": "text/x-python",
   "name": "python",
   "nbconvert_exporter": "python",
   "pygments_lexer": "ipython3",
   "version": "3.6.5-final"
  }
 },
 "nbformat": 4,
 "nbformat_minor": 4
}