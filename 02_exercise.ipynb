{
 "cells": [
  {
   "cell_type": "markdown",
   "metadata": {},
   "source": [
    "## Övning #2\n",
    "### 04 September 2020\n",
    "\n",
    "#### Agenda för idag:\n",
    "- Lära oss mer om __operations__\n",
    "    - jämförelse\n",
    "    - logiska\n",
    "- Lära oss mer om __conditions__\n",
    "- Lära oss mer om __loopar__\n",
    "    - `Laboration 3` kommer handla om loopar\n",
    "- Lära oss mer om __datastrukturer__ inom \n",
    "    - List\n",
    "\n",
    "Vill ni läsa mer om operatorer, så går det att göra här:\n",
    "[https://www.tutorialspoint.com/python/python_basic_operators.htm]\n",
    "(https://www.tutorialspoint.com/python/python_basic_operators.htm)\n"
   ]
  },
  {
   "cell_type": "markdown",
   "metadata": {},
   "source": [
    "## Operations\n",
    "\n",
    "Operatorer används för att ett pythonprogram ska kunna göra olika saker beroende på den inmatade datan som ges.\n",
    "\n",
    "En `operator` ger alltid tillbaka ett __booleskt värde__."
   ]
  },
  {
   "cell_type": "markdown",
   "metadata": {},
   "source": [
    "### Jämförelse\n",
    "\n",
    "Använder sig utav samma logik som finns i matten och de operatorerna som finns är:\n",
    "- == (lika med)\n",
    "- \\!= (inte lika med)\n",
    "- < (mindre än)\n",
    "- \\<= (mindre än eller lika med)\n",
    "- \\> (större än)\n",
    "- \\>= (större än eller lika med)"
   ]
  },
  {
   "cell_type": "code",
   "execution_count": null,
   "metadata": {
    "tags": []
   },
   "outputs": [],
   "source": [
    "# Jämförelse exempel #1\n",
    "\n",
    "print('a' < 'b') #alfabetisk ordning\n",
    "print(4 < 5) # numerisk ordning\n",
    "\n",
    "from helpers.human import Human # Egengjord modul\n",
    "\n",
    "john = Human(name = 'John', age = 25)\n",
    "siri = Human(name = 'Siri', age = 42)\n",
    "\n",
    "print(john < siri) # Jämför åldern, hur exakt kommer visas senare i kursen!\n",
    "\n"
   ]
  },
  {
   "cell_type": "code",
   "execution_count": null,
   "metadata": {
    "tags": []
   },
   "outputs": [],
   "source": [
    "# Jämförelse exempel #2\n",
    "\n",
    "item = None\n",
    "is_none = item == None\n",
    "if is_none: print('item är absolut inget!')\n"
   ]
  },
  {
   "cell_type": "markdown",
   "metadata": {},
   "source": [
    "### Logiska operatorer\n",
    "Det behövs bara 3 olika \"grindar\" för att kunna utgöra alla sorts olika operatorer. Det är `AND`, `OR` och `NOT`\n",
    "\n",
    "I python kan du skriva det skriftligt eller symboliskt såhär:\n",
    "\n",
    "- `and` eller `&`\n",
    "- `or` eller `|`\n",
    "- `not`"
   ]
  },
  {
   "cell_type": "code",
   "execution_count": null,
   "metadata": {
    "tags": []
   },
   "outputs": [],
   "source": [
    "# Logik exempel #1\n",
    "\n",
    "june = 6\n",
    "august = 8\n",
    "summer_school = True\n",
    "\n",
    "def is_summer(month): return month >= june and month <= august\n",
    "\n",
    "date = {\n",
    "    'year': 2020,\n",
    "    'month': 7,\n",
    "    'day': 20\n",
    "}\n",
    "# Detta är en dictionary, vilket är en datastruktur som vi kommer gå in mer på senare!\n",
    "\n",
    "if is_summer(date['month']) & summer_school:\n",
    "    print('No rest for the wicked..')\n",
    "else:\n",
    "    print('School is okay during all but summer..')"
   ]
  },
  {
   "cell_type": "markdown",
   "metadata": {},
   "source": [
    "## Loopar\n",
    "\n",
    "Loopar används för att återanvända repetitiv kod. Det finns två sätt att göra en loop på. Ena är `while`, som loopar så länge ett påstående är korrekt och den andra är `for` som loopar över något som är `iterabelt`"
   ]
  },
  {
   "cell_type": "markdown",
   "metadata": {},
   "source": [
    "### For loop\n",
    "itererar över en iterabel datastruktur, exempel på dessa är:\n",
    "- `list`\n",
    "- `array`\n",
    "- `dictionary`\n",
    "- `tuple`\n",
    "- `Strings`\n",
    "- `Sets`\n",
    "\n",
    "Går att läsa mer om dessa på:\n",
    "\n",
    "[https://thomas-cokelaer.info/tutorials/python/data_structures.html]\n",
    "(https://thomas-cokelaer.info/tutorials/python/data_structures.html)\n"
   ]
  },
  {
   "cell_type": "code",
   "execution_count": null,
   "metadata": {
    "tags": []
   },
   "outputs": [],
   "source": [
    "# For loop exempel #1\n",
    "\n",
    "my_name = 'John Landeholt'\n",
    "\n",
    "for letter in my_name:\n",
    "    if letter is 'L':\n",
    "        print('Ditt namn har ett L i sig!')"
   ]
  },
  {
   "cell_type": "code",
   "execution_count": null,
   "metadata": {
    "tags": []
   },
   "outputs": [],
   "source": [
    "# For loop exempel #2\n",
    "\n",
    "title = 'this is a regular title'\n",
    "gen_z_title = ''\n",
    "\n",
    "for i, letter in enumerate(title, 1):\n",
    "    if i % 2 == 1: letter = letter.upper()\n",
    "    gen_z_title += letter\n",
    "print(gen_z_title)\n"
   ]
  },
  {
   "cell_type": "code",
   "execution_count": null,
   "metadata": {
    "tags": []
   },
   "outputs": [],
   "source": [
    "# For loop exempel #3\n",
    "\n",
    "menu = [\n",
    "    'Gör en undersökning',\n",
    "    'Se en undersökning',\n",
    "    'Avsluta'\n",
    "]\n",
    "\n",
    "print('navigera genom menyn genom att skriva den tillhörande siffran')\n",
    "for index, item in enumerate(menu, 1):\n",
    "    print(f'{index}. {item}')\n",
    "choice = int(input('> '))\n",
    "print(f'Du valde: {menu[choice - 1]}')"
   ]
  },
  {
   "cell_type": "markdown",
   "metadata": {},
   "source": [
    "### while loop\n",
    "Är en evighets loop som endast stängs av genom två fall:\n",
    "- while loopen möter på `break`\n",
    "- while loopens påstående stämmer inte"
   ]
  },
  {
   "cell_type": "code",
   "execution_count": null,
   "metadata": {
    "tags": []
   },
   "outputs": [],
   "source": [
    "# while loop exempel #1\n",
    "\n",
    "# hjälpfunktion som avgör om listan är tom eller inte\n",
    "def is_empty(iter): return len(iter) == 0\n",
    "\n",
    "to_do_list = [\n",
    "    'make exercise slides',\n",
    "    'work',\n",
    "    'study',\n",
    "    'buy grocerices',\n",
    "    'cook dinner'\n",
    "]\n",
    "\n",
    "while not is_empty(to_do_list):\n",
    "    item = to_do_list.pop(0)\n",
    "    print(f'✅ Checking of: {item}')\n",
    "\n"
   ]
  },
  {
   "cell_type": "code",
   "execution_count": null,
   "metadata": {
    "tags": []
   },
   "outputs": [],
   "source": [
    "# while loop exempel #2 - TESTAS I TERMINALEN!\n",
    "\n",
    "from time import sleep\n",
    "\n",
    "def start():\n",
    "    number = 0\n",
    "    while True:\n",
    "        number += 1\n",
    "        print(f'python goes b{\"r\" * number}', end='\\r')\n",
    "        sleep(0.5)\n",
    "        "
   ]
  },
  {
   "cell_type": "code",
   "execution_count": null,
   "metadata": {
    "tags": []
   },
   "outputs": [],
   "source": [
    "# while loop exempel #3\n",
    "\n",
    "from datetime import datetime # inbyggd modul som representerar datum\n",
    "\n",
    "before = datetime.now()\n",
    "last_second = None\n",
    "\n",
    "while True:\n",
    "    now = datetime.now()\n",
    "    if now.minute != before.minute:\n",
    "        print('Another minute has passed!')\n",
    "        break\n",
    "    if last_second == now.second - 1:\n",
    "        print(f'{60-now.second} left to new minute!')\n",
    "    last_second = now.second\n",
    "    "
   ]
  },
  {
   "cell_type": "markdown",
   "metadata": {},
   "source": [
    "## Datastrukturer\n",
    "\n",
    "Datastrukturer används för att spara undan information i variabler som går att återanvändas.\n",
    "\n",
    "Litteraler eller datatyper är också datastrukturer, men det gruppen främst benämns för är de datatyper som kan hålla flera andra datatyper inuti sig."
   ]
  },
  {
   "cell_type": "markdown",
   "metadata": {},
   "source": [
    "### List\n",
    "\n",
    "Listor är en av de enklare datastrukturerna som det går att iterera över med hjälp av loopar. Datastrukturen `list` har specifika metoder kopplade till sig som är:\n",
    "\n",
    "- `append()`\n",
    "- `pop()`\n",
    "- `count()`\n",
    "- extend()\n",
    "- `index()`\n",
    "- remove()\n",
    "- `sort()`\n",
    "- reverse()"
   ]
  },
  {
   "cell_type": "code",
   "execution_count": null,
   "metadata": {
    "tags": []
   },
   "outputs": [],
   "source": [
    "# List exempel #1\n",
    "# metoder: append\n",
    "# Går att skapa listor på 2 sätt!\n",
    "\n",
    "I_20 = []\n",
    "# eller\n",
    "I_20 = list()\n",
    "\n",
    "I_20.append('Alice')\n",
    "I_20.append('Bob')\n",
    "\n",
    "print(I_20)"
   ]
  },
  {
   "cell_type": "markdown",
   "metadata": {},
   "source": [
    "Varje lista har en indexering. Detta är ett tal som börjar på `0` och slutar på listans `längd - 1`\n",
    "\n",
    "För att få reda på vad som finns på 3 indexet i listan skriver man alltså såhär:"
   ]
  },
  {
   "cell_type": "code",
   "execution_count": null,
   "metadata": {
    "tags": []
   },
   "outputs": [],
   "source": [
    "from string import ascii_lowercase as letters # inbyggd modul som representerar olika grupper av tecken som får finnas i strings. https://docs.python.org/3/library/string.html\n",
    "swedish_letters = letters + 'åäö'\n",
    "\n",
    "alfabet = [letter for letter in swedish_letters] # en generator eller for loop på en rad\n",
    "\n",
    "print(alfabet[3])"
   ]
  },
  {
   "cell_type": "code",
   "execution_count": null,
   "metadata": {
    "tags": []
   },
   "outputs": [],
   "source": [
    "# List exempel #2 - ihop med loopar\n",
    "\n",
    "for l in alfabet:\n",
    "    if l not in 'aeioyåäö': print(f'{l} is a consonant')"
   ]
  },
  {
   "cell_type": "code",
   "execution_count": null,
   "metadata": {
    "tags": []
   },
   "outputs": [],
   "source": [
    "# List exempel #3 - ihop med while-loop\n",
    "# metoder: append, pop\n",
    "\n",
    "def is_empty(iter): return len(iter) == 0\n",
    "\n",
    "\n",
    "vowels = list() # valfritt hur man vi deklarera en lista\n",
    "consonants = []\n",
    "\n",
    "while not is_empty(alfabet):\n",
    "    letter = alfabet.pop(0) # pop 'poppar' ut det sista elementet i en lista (om inte som i detta fallet ett index är tillgivet)\n",
    "    if letter in 'aeioyåäö': vowels.append(letter)\n",
    "    else: consonants.append(letter)\n",
    "\n",
    "print(f'alfabet-list: {alfabet}')\n",
    "print(f'vowels-list: {vowels}')\n",
    "print(f'consonants-list: {consonants}')\n"
   ]
  },
  {
   "cell_type": "code",
   "execution_count": null,
   "metadata": {
    "tags": []
   },
   "outputs": [],
   "source": [
    "# List exempel #3\n",
    "# metoder: count, sort\n",
    "\n",
    "junk = [\n",
    "    'tissue',\n",
    "    'plastic',\n",
    "    'utensil',\n",
    "    'socks',\n",
    "    'tissue',\n",
    "    'bottle',\n",
    "    'baking sheet'\n",
    "]\n",
    "print(junk)\n",
    "\n",
    "junk.reverse()\n",
    "\n",
    "print(junk)\n",
    "\n",
    "print(junk.count('tissue'))\n"
   ]
  },
  {
   "cell_type": "code",
   "execution_count": null,
   "metadata": {},
   "outputs": [],
   "source": []
  }
 ],
 "metadata": {
  "kernelspec": {
   "display_name": "Python 3",
   "language": "python",
   "name": "python3"
  },
  "language_info": {
   "codemirror_mode": {
    "name": "ipython",
    "version": 3
   },
   "file_extension": ".py",
   "mimetype": "text/x-python",
   "name": "python",
   "nbconvert_exporter": "python",
   "pygments_lexer": "ipython3",
   "version": "3.6.5"
  }
 },
 "nbformat": 4,
 "nbformat_minor": 4
}