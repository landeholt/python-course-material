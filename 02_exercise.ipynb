{
 "cells": [
  {
   "cell_type": "markdown",
   "metadata": {},
   "source": [
    "## Övning #2\n",
    "### 04 September 2020\n",
    "\n",
    "#### Agenda för idag:\n",
    "- Lära oss mer om __operations__\n",
    "    - jämförelse\n",
    "    - logiska\n",
    "- Lära oss mer om __conditions__\n",
    "- Lära oss mer om __loopar__\n",
    "    - `Laboration 3` kommer handla om loopar\n",
    "- Lära oss mer om __datastrukturer__ inom \n",
    "    - List\n",
    "\n",
    "Vill ni läsa mer om operatorer, så går det att göra här:\n",
    "[https://www.tutorialspoint.com/python/python_basic_operators.htm]\n",
    "(https://www.tutorialspoint.com/python/python_basic_operators.htm)\n"
   ]
  },
  {
   "cell_type": "markdown",
   "metadata": {},
   "source": [
    "## Operations\n",
    "\n",
    "Operatorer används för att ett pythonprogram ska kunna göra olika saker beroende på den inmatade datan som ges.\n",
    "\n",
    "En `operator` ger alltid tillbaka ett __booleskt värde__."
   ]
  },
  {
   "cell_type": "markdown",
   "metadata": {},
   "source": [
    "### Jämförelse\n",
    "\n",
    "Använder sig utav samma logik som finns i matten och de operatorerna som finns är:\n",
    "- == (lika med)\n",
    "- \\!= (inte lika med)\n",
    "- < (mindre än)\n",
    "- \\<= (mindre än eller lika med)\n",
    "- \\> (större än)\n",
    "- \\>= (större än eller lika med)"
   ]
  },
  {
   "cell_type": "code",
   "execution_count": 1,
   "metadata": {
    "tags": []
   },
   "outputs": [
    {
     "name": "stdout",
     "output_type": "stream",
     "text": [
      "True\n",
      "True\n",
      "True\n"
     ]
    }
   ],
   "source": [
    "# Jämförelse exempel #1\n",
    "\n",
    "print('a' < 'b') #alfabetisk ordning\n",
    "print(4 < 5) # numerisk ordning\n",
    "\n",
    "from helpers.human import Human # Egengjord modul\n",
    "\n",
    "john = Human(name = 'John', age = 25)\n",
    "siri = Human(name = 'Siri', age = 42)\n",
    "\n",
    "print(john < siri) # Jämför åldern, hur exakt kommer visas senare i kursen!\n",
    "\n"
   ]
  },
  {
   "cell_type": "code",
   "execution_count": 2,
   "metadata": {
    "tags": []
   },
   "outputs": [
    {
     "name": "stdout",
     "output_type": "stream",
     "text": [
      "item är absolut inget!\n"
     ]
    }
   ],
   "source": [
    "# Jämförelse exempel #2\n",
    "\n",
    "item = None\n",
    "is_none = item == None\n",
    "if is_none: print('item är absolut inget!')\n"
   ]
  },
  {
   "cell_type": "markdown",
   "metadata": {},
   "source": [
    "### Logiska operatorer\n",
    "Det behövs bara 3 olika \"grindar\" för att kunna utgöra alla sorts olika operatorer. Det är `AND`, `OR` och `NOT`\n",
    "\n",
    "I python kan du skriva det skriftligt eller symboliskt såhär:\n",
    "\n",
    "- `and` eller `&`\n",
    "- `or` eller `|`\n",
    "- `not`"
   ]
  },
  {
   "cell_type": "code",
   "execution_count": 3,
   "metadata": {
    "tags": []
   },
   "outputs": [
    {
     "name": "stdout",
     "output_type": "stream",
     "text": [
      "No rest for the wicked..\n"
     ]
    }
   ],
   "source": [
    "# Logik exempel #1\n",
    "\n",
    "june = 6\n",
    "august = 8\n",
    "summer_school = True\n",
    "\n",
    "def is_summer(month): return month >= june and month <= august\n",
    "\n",
    "date = {\n",
    "    'year': 2020,\n",
    "    'month': 7,\n",
    "    'day': 20\n",
    "}\n",
    "# Detta är en dictionary, vilket är en datastruktur som vi kommer gå in mer på senare!\n",
    "\n",
    "if is_summer(date['month']) & summer_school:\n",
    "    print('No rest for the wicked..')\n",
    "else:\n",
    "    print('School is okay during all but summer..')"
   ]
  },
  {
   "cell_type": "markdown",
   "metadata": {},
   "source": [
    "## Loopar\n",
    "\n",
    "Loopar används för att återanvända repetitiv kod. Det finns två sätt att göra en loop på. Ena är `while`, som loopar så länge ett påstående är korrekt och den andra är `for` som loopar över något som är `iterabelt`"
   ]
  },
  {
   "cell_type": "markdown",
   "metadata": {},
   "source": [
    "### For loop\n",
    "itererar över en iterabel datastruktur, exempel på dessa är:\n",
    "- `list`\n",
    "- `array`\n",
    "- `dictionary`\n",
    "- `tuple`\n",
    "- `Strings`\n",
    "- `Sets`\n",
    "\n",
    "Går att läsa mer om dessa på:\n",
    "\n",
    "[https://thomas-cokelaer.info/tutorials/python/data_structures.html]\n",
    "(https://thomas-cokelaer.info/tutorials/python/data_structures.html)\n"
   ]
  },
  {
   "cell_type": "code",
   "execution_count": 5,
   "metadata": {
    "tags": []
   },
   "outputs": [
    {
     "name": "stdout",
     "output_type": "stream",
     "text": [
      "Ditt namn har ett L i sig!\n"
     ]
    }
   ],
   "source": [
    "# For loop exempel #1\n",
    "\n",
    "my_name = 'John Landeholt'\n",
    "\n",
    "for letter in my_name:\n",
    "    if letter == 'L':\n",
    "        print('Ditt namn har ett L i sig!')"
   ]
  },
  {
   "cell_type": "code",
   "execution_count": 6,
   "metadata": {
    "tags": []
   },
   "outputs": [
    {
     "name": "stdout",
     "output_type": "stream",
     "text": [
      "ThIs iS A ReGuLaR TiTlE\n"
     ]
    }
   ],
   "source": [
    "# For loop exempel #2\n",
    "\n",
    "title = 'this is a regular title'\n",
    "gen_z_title = ''\n",
    "\n",
    "for i, letter in enumerate(title, 1):\n",
    "    if i % 2 == 1: letter = letter.upper()\n",
    "    gen_z_title += letter\n",
    "print(gen_z_title)\n"
   ]
  },
  {
   "cell_type": "code",
   "execution_count": null,
   "metadata": {
    "tags": []
   },
   "outputs": [],
   "source": [
    "# For loop exempel #3\n",
    "\n",
    "menu = [\n",
    "    'Gör en undersökning',\n",
    "    'Se en undersökning',\n",
    "    'Avsluta'\n",
    "]\n",
    "\n",
    "print('navigera genom menyn genom att skriva den tillhörande siffran')\n",
    "for index, item in enumerate(menu, 1):\n",
    "    print(f'{index}. {item}')\n",
    "choice = int(input('> '))\n",
    "print(f'Du valde: {menu[choice - 1]}')"
   ]
  },
  {
   "cell_type": "markdown",
   "metadata": {},
   "source": [
    "### while loop\n",
    "Är en evighets loop som endast stängs av genom två fall:\n",
    "- while loopen möter på `break`\n",
    "- while loopens påstående stämmer inte"
   ]
  },
  {
   "cell_type": "code",
   "execution_count": 8,
   "metadata": {
    "tags": []
   },
   "outputs": [
    {
     "name": "stdout",
     "output_type": "stream",
     "text": [
      "✅ Checking of: make exercise slides\n",
      "✅ Checking of: work\n",
      "✅ Checking of: study\n",
      "✅ Checking of: buy grocerices\n",
      "✅ Checking of: cook dinner\n"
     ]
    }
   ],
   "source": [
    "# while loop exempel #1\n",
    "\n",
    "# hjälpfunktion som avgör om listan är tom eller inte\n",
    "def is_empty(iter): return len(iter) == 0\n",
    "\n",
    "to_do_list = [\n",
    "    'make exercise slides',\n",
    "    'work',\n",
    "    'study',\n",
    "    'buy grocerices',\n",
    "    'cook dinner'\n",
    "]\n",
    "\n",
    "while not is_empty(to_do_list):\n",
    "    item = to_do_list.pop(0)\n",
    "    print(f'✅ Checking of: {item}')\n",
    "\n"
   ]
  },
  {
   "cell_type": "code",
   "execution_count": 11,
   "metadata": {
    "collapsed": true,
    "jupyter": {
     "outputs_hidden": true
    },
    "tags": []
   },
   "outputs": [
    {
     "name": "stdout",
     "output_type": "stream",
     "text": [
      "python goes brrrrrrrrrrr\r"
     ]
    },
    {
     "ename": "KeyboardInterrupt",
     "evalue": "",
     "output_type": "error",
     "traceback": [
      "\u001b[0;31m---------------------------------------------------------------------------\u001b[0m",
      "\u001b[0;31mKeyboardInterrupt\u001b[0m                         Traceback (most recent call last)",
      "\u001b[0;32m<ipython-input-11-e0c76ac7a08f>\u001b[0m in \u001b[0;36m<module>\u001b[0;34m\u001b[0m\n\u001b[1;32m     10\u001b[0m         \u001b[0msleep\u001b[0m\u001b[0;34m(\u001b[0m\u001b[0;36m0.5\u001b[0m\u001b[0;34m)\u001b[0m\u001b[0;34m\u001b[0m\u001b[0;34m\u001b[0m\u001b[0m\n\u001b[1;32m     11\u001b[0m \u001b[0;34m\u001b[0m\u001b[0m\n\u001b[0;32m---> 12\u001b[0;31m \u001b[0mstart\u001b[0m\u001b[0;34m(\u001b[0m\u001b[0;34m)\u001b[0m\u001b[0;34m\u001b[0m\u001b[0;34m\u001b[0m\u001b[0m\n\u001b[0m",
      "\u001b[0;32m<ipython-input-11-e0c76ac7a08f>\u001b[0m in \u001b[0;36mstart\u001b[0;34m()\u001b[0m\n\u001b[1;32m      8\u001b[0m         \u001b[0mnumber\u001b[0m \u001b[0;34m+=\u001b[0m \u001b[0;36m1\u001b[0m\u001b[0;34m\u001b[0m\u001b[0;34m\u001b[0m\u001b[0m\n\u001b[1;32m      9\u001b[0m         \u001b[0mprint\u001b[0m\u001b[0;34m(\u001b[0m\u001b[0;34mf'python goes b{\"r\" * number}'\u001b[0m\u001b[0;34m,\u001b[0m \u001b[0mend\u001b[0m\u001b[0;34m=\u001b[0m\u001b[0;34m'\\r'\u001b[0m\u001b[0;34m)\u001b[0m\u001b[0;34m\u001b[0m\u001b[0;34m\u001b[0m\u001b[0m\n\u001b[0;32m---> 10\u001b[0;31m         \u001b[0msleep\u001b[0m\u001b[0;34m(\u001b[0m\u001b[0;36m0.5\u001b[0m\u001b[0;34m)\u001b[0m\u001b[0;34m\u001b[0m\u001b[0;34m\u001b[0m\u001b[0m\n\u001b[0m\u001b[1;32m     11\u001b[0m \u001b[0;34m\u001b[0m\u001b[0m\n\u001b[1;32m     12\u001b[0m \u001b[0mstart\u001b[0m\u001b[0;34m(\u001b[0m\u001b[0;34m)\u001b[0m\u001b[0;34m\u001b[0m\u001b[0;34m\u001b[0m\u001b[0m\n",
      "\u001b[0;31mKeyboardInterrupt\u001b[0m: "
     ]
    }
   ],
   "source": [
    "# while loop exempel #2 - TESTAS I TERMINALEN!\n",
    "\n",
    "from time import sleep\n",
    "\n",
    "def start():\n",
    "    number = 0\n",
    "    while True:\n",
    "        number += 1\n",
    "        print(f'python goes b{\"r\" * number}', end='\\r')\n",
    "        sleep(0.5)\n",
    "        \n",
    "start()"
   ]
  },
  {
   "cell_type": "code",
   "execution_count": null,
   "metadata": {
    "tags": []
   },
   "outputs": [],
   "source": [
    "# while loop exempel #3\n",
    "\n",
    "from datetime import datetime # inbyggd modul som representerar datum\n",
    "\n",
    "before = datetime.now()\n",
    "last_second = None\n",
    "\n",
    "while True:\n",
    "    now = datetime.now()\n",
    "    if now.minute != before.minute:\n",
    "        print('Another minute has passed!')\n",
    "        break\n",
    "    if last_second == now.second - 1:\n",
    "        print(f'{60-now.second} left to new minute!')\n",
    "    last_second = now.second\n",
    "    "
   ]
  },
  {
   "cell_type": "markdown",
   "metadata": {},
   "source": [
    "## Datastrukturer\n",
    "\n",
    "Datastrukturer används för att spara undan information i variabler som går att återanvändas.\n",
    "\n",
    "Litteraler eller datatyper är också datastrukturer, men det gruppen främst benämns för är de datatyper som kan hålla flera andra datatyper inuti sig."
   ]
  },
  {
   "cell_type": "markdown",
   "metadata": {},
   "source": [
    "### List\n",
    "\n",
    "Listor är en av de enklare datastrukturerna som det går att iterera över med hjälp av loopar. Datastrukturen `list` har specifika metoder kopplade till sig som är:\n",
    "\n",
    "- `append()`\n",
    "- `pop()`\n",
    "- `count()`\n",
    "- extend()\n",
    "- `index()`\n",
    "- remove()\n",
    "- `sort()`\n",
    "- reverse()"
   ]
  },
  {
   "cell_type": "code",
   "execution_count": 12,
   "metadata": {
    "tags": []
   },
   "outputs": [
    {
     "name": "stdout",
     "output_type": "stream",
     "text": [
      "['Alice', 'Bob']\n"
     ]
    }
   ],
   "source": [
    "# List exempel #1\n",
    "# metoder: append\n",
    "# Går att skapa listor på 2 sätt!\n",
    "\n",
    "I_20 = []\n",
    "# eller\n",
    "I_20 = list()\n",
    "\n",
    "I_20.append('Alice')\n",
    "I_20.append('Bob')\n",
    "\n",
    "print(I_20)"
   ]
  },
  {
   "cell_type": "markdown",
   "metadata": {},
   "source": [
    "Varje lista har en indexering. Detta är ett tal som börjar på `0` och slutar på listans `längd - 1`\n",
    "\n",
    "För att få reda på vad som finns på 3 indexet i listan skriver man alltså såhär:"
   ]
  },
  {
   "cell_type": "code",
   "execution_count": 13,
   "metadata": {
    "tags": []
   },
   "outputs": [
    {
     "name": "stdout",
     "output_type": "stream",
     "text": [
      "d\n"
     ]
    }
   ],
   "source": [
    "from string import ascii_lowercase as letters # inbyggd modul som representerar olika grupper av tecken som får finnas i strings. https://docs.python.org/3/library/string.html\n",
    "swedish_letters = letters + 'åäö'\n",
    "\n",
    "alfabet = [letter for letter in swedish_letters] # en generator eller for loop på en rad\n",
    "\n",
    "print(alfabet[3])"
   ]
  },
  {
   "cell_type": "code",
   "execution_count": 14,
   "metadata": {
    "tags": []
   },
   "outputs": [
    {
     "name": "stdout",
     "output_type": "stream",
     "text": [
      "b is a consonant\n",
      "c is a consonant\n",
      "d is a consonant\n",
      "f is a consonant\n",
      "g is a consonant\n",
      "h is a consonant\n",
      "j is a consonant\n",
      "k is a consonant\n",
      "l is a consonant\n",
      "m is a consonant\n",
      "n is a consonant\n",
      "p is a consonant\n",
      "q is a consonant\n",
      "r is a consonant\n",
      "s is a consonant\n",
      "t is a consonant\n",
      "u is a consonant\n",
      "v is a consonant\n",
      "w is a consonant\n",
      "x is a consonant\n",
      "z is a consonant\n"
     ]
    }
   ],
   "source": [
    "# List exempel #2 - ihop med loopar\n",
    "\n",
    "for l in alfabet:\n",
    "    if l not in 'aeioyåäö': print(f'{l} is a consonant')"
   ]
  },
  {
   "cell_type": "code",
   "execution_count": 15,
   "metadata": {
    "tags": []
   },
   "outputs": [
    {
     "name": "stdout",
     "output_type": "stream",
     "text": [
      "alfabet-list: []\n",
      "vowels-list: ['a', 'e', 'i', 'o', 'y', 'å', 'ä', 'ö']\n",
      "consonants-list: ['b', 'c', 'd', 'f', 'g', 'h', 'j', 'k', 'l', 'm', 'n', 'p', 'q', 'r', 's', 't', 'u', 'v', 'w', 'x', 'z']\n"
     ]
    }
   ],
   "source": [
    "# List exempel #3 - ihop med while-loop\n",
    "# metoder: append, pop\n",
    "\n",
    "def is_empty(iter): return len(iter) == 0\n",
    "\n",
    "\n",
    "vowels = list() # valfritt hur man vi deklarera en lista\n",
    "consonants = []\n",
    "\n",
    "while not is_empty(alfabet):\n",
    "    letter = alfabet.pop(0) # pop 'poppar' ut det sista elementet i en lista (om inte som i detta fallet ett index är tillgivet)\n",
    "    if letter in 'aeioyåäö': vowels.append(letter)\n",
    "    else: consonants.append(letter)\n",
    "\n",
    "print(f'alfabet-list: {alfabet}')\n",
    "print(f'vowels-list: {vowels}')\n",
    "print(f'consonants-list: {consonants}')\n"
   ]
  },
  {
   "cell_type": "code",
   "execution_count": 16,
   "metadata": {
    "tags": []
   },
   "outputs": [
    {
     "name": "stdout",
     "output_type": "stream",
     "text": [
      "['tissue', 'plastic', 'utensil', 'socks', 'tissue', 'bottle', 'baking sheet']\n",
      "['baking sheet', 'bottle', 'tissue', 'socks', 'utensil', 'plastic', 'tissue']\n",
      "2\n"
     ]
    }
   ],
   "source": [
    "# List exempel #3\n",
    "# metoder: count, sort\n",
    "\n",
    "junk = [\n",
    "    'tissue',\n",
    "    'plastic',\n",
    "    'utensil',\n",
    "    'socks',\n",
    "    'tissue',\n",
    "    'bottle',\n",
    "    'baking sheet'\n",
    "]\n",
    "print(junk)\n",
    "\n",
    "junk.reverse()\n",
    "\n",
    "print(junk)\n",
    "\n",
    "print(junk.count('tissue'))\n"
   ]
  },
  {
   "cell_type": "code",
   "execution_count": null,
   "metadata": {},
   "outputs": [],
   "source": []
  }
 ],
 "metadata": {
  "kernelspec": {
   "display_name": "Python 3",
   "language": "python",
   "name": "python3"
  },
  "language_info": {
   "codemirror_mode": {
    "name": "ipython",
    "version": 3
   },
   "file_extension": ".py",
   "mimetype": "text/x-python",
   "name": "python",
   "nbconvert_exporter": "python",
   "pygments_lexer": "ipython3",
   "version": "3.8.5"
  }
 },
 "nbformat": 4,
 "nbformat_minor": 4
}
