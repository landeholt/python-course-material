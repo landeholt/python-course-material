{
 "cells": [
  {
   "cell_type": "markdown",
   "metadata": {},
   "source": [
    "## Övning #3\n",
    "### 11 September 2020\n",
    "\n",
    "#### Agenda för idag:\n",
    "- Fortsättning på datastrukturer\n",
    "    - Dictionaries\n",
    "    - Sets\n",
    "- Filhantering\n",
    "    - `Laboration 5` kommer att handla om filhantering!"
   ]
  },
  {
   "cell_type": "markdown",
   "metadata": {},
   "source": [
    "## Dictionaries\n",
    "Denna datastruktur brukar kallas  för key-value pairs, eftersom du behöver en nyckel som är kopplat till ett värde.\n",
    "\n",
    "Är du intresserad över varför det kallas för en nyckel eller hur strukturen fungerar kan du läsa på mer här, det är dock orelevant för kursen:\n",
    "[https://stackoverflow.com/questions/327311/how-are-pythons-built-in-dictionaries-implemented](https://stackoverflow.com/questions/327311/how-are-pythons-built-in-dictionaries-implemented)\n",
    "\n",
    "Det övertag dictionaries har över vanliga listor är att du programatiskt kan förklara med kod vad du letar efter, då nyckeln är en sträng. Exempel:\n",
    "> `books_in_library['Harry_potter'] = [..., 'Harry Potter and the Deathly Hallows']`"
   ]
  },
  {
   "cell_type": "code",
   "execution_count": null,
   "metadata": {
    "tags": []
   },
   "outputs": [],
   "source": [
    "# Dictionaries exempel #1\n",
    "\n",
    "# likt listor kan du deklarera dem på två sätt:\n",
    "\n",
    "library = {}\n",
    "# eller\n",
    "library = dict()\n",
    "\n",
    "library['Harry_Potter'] = [\n",
    "    {\n",
    "    'title': 'Harry Potter and the Deathly Hallows',\n",
    "    'released': 2007},\n",
    "    {\n",
    "    'title': 'Harry Potter and the Half-Blood Prince',\n",
    "    'released': 2005},\n",
    "    ]\n",
    "\n",
    "library['Tintin'] = [{\n",
    "    'title': 'Tintin och hajsjön',\n",
    "    'released': 1973},\n",
    "    {\n",
    "    'title': 'Tintin och alfabetskonsten',\n",
    "    'released': 1989\n",
    "    }\n",
    "]\n",
    "\n",
    "print('these books exists for Harry Potter in our storage:')\n",
    "for book in library['Harry_Potter']:\n",
    "    print(book['title'])\n"
   ]
  },
  {
   "cell_type": "code",
   "execution_count": null,
   "metadata": {
    "tags": []
   },
   "outputs": [],
   "source": [
    "# Dictionaries exempel #2\n",
    "\n",
    "# Du lägger till element i en dictionary genom att ange en nyckel in dictionaryn samt ett värde du vill ska vara kopplat till den.\n",
    "\n",
    "my_dict = {}\n",
    "\n",
    "my_dict['my_key'] = 'my_value'\n",
    "\n",
    "print(my_dict)\n",
    "\n",
    "# visar dig alla dictionaryn nycklar\n",
    "print(my_dict.keys())\n",
    "# och värden\n",
    "print(my_dict.values())"
   ]
  },
  {
   "cell_type": "code",
   "execution_count": null,
   "metadata": {
    "tags": []
   },
   "outputs": [],
   "source": [
    "# Dictionaries exempel #3\n",
    "\n",
    "# Varje nyckel är unik, vilket är viktigt att tänka på om du lägger till element i en dictionary dynamiskt.\n",
    "\n",
    "car = {\n",
    "    'brand': 'Volvo',\n",
    "    'model': 'V70',\n",
    "    'type': 'sedan',\n",
    "    'color': 'blue',\n",
    "    'miles': 42000\n",
    "}\n",
    "\n",
    "print(car)\n",
    "\n",
    "car['brand'] = 'Saab'\n",
    "\n",
    "print('________________\\n')\n",
    "\n",
    "print(car)"
   ]
  },
  {
   "cell_type": "code",
   "execution_count": null,
   "metadata": {
    "tags": []
   },
   "outputs": [],
   "source": [
    "# Dictionaries exempel #4\n",
    "\n",
    "# Men tyck inte att det är dåligt att du inte kan ha flera nycklar med samma namn. Detta ger dig andra sorts möjligheter såsom att räkna unika element i en lista!\n",
    "\n",
    "from string import ascii_letters as letters\n",
    "from random import randint\n",
    "\n",
    "def get_random_letter(): # Hjälpfunktion för att ge en slumpad bokstav\n",
    "    index = randint(0, len(letters) - 1)\n",
    "    return letters[index]\n",
    "\n",
    "alot_of_letters = []\n",
    "\n",
    "for i in range(9000):\n",
    "    alot_of_letters.append(get_random_letter())\n",
    "\n",
    "# Nu finns det 9000 bokstäver i listan, som vi inte vet fördelningen på, låt oss ta reda på den nu!\n",
    "\n",
    "distributed_letters = {}\n",
    "for letter in alot_of_letters:\n",
    "    if letter not in distributed_letters:\n",
    "        distributed_letters[letter] = 1\n",
    "    else:\n",
    "        distributed_letters[letter] += 1\n",
    "\n",
    "# Nu kan vi se fördelningen av bokstäver, då nyckeln är själva bokstaven, och fördelningen är värdet.\n",
    "print(distributed_letters)\n",
    "\n"
   ]
  },
  {
   "cell_type": "markdown",
   "metadata": {},
   "source": [
    "## Sets\n",
    "Sets går att förklara som en mängd objekt i en påse. För ett sets objekt tillkommer det metoder som den som har läst om `mängdlära` känner igen:\n",
    " - union\n",
    " - intersection\n",
    " - difference\n",
    "I ett set så är alla objekt unika, vilket betyder att det endast kommer finnas ett string-objekt med `\"oboy\"` inuti sig.\n",
    "\n",
    "Mer information om sets finns här:\n",
    "[https://docs.python.org/3.6/library/stdtypes.html#set-types-set-frozenset]\n",
    "(https://docs.python.org/3.6/library/stdtypes.html#set-types-set-frozenset)"
   ]
  },
  {
   "cell_type": "code",
   "execution_count": null,
   "metadata": {
    "tags": []
   },
   "outputs": [],
   "source": [
    "# Sets exempel #1\n",
    "\n",
    "svenska_ord = set(['Ost', 'Baguette', 'Dessert', 'Picnic', 'Restaurant', 'Chef', 'Tidning', 'Stol', 'Penna', 'Massage', 'Roman', 'Mode'])\n",
    "\n",
    "franska_ord = set(['Baguette', 'Dessert', 'Picnic', 'Restaurant', 'Chef', 'Massage', 'Roman', 'Mode', 'Pédicure', 'Fromage', 'Journal', 'Chaise', 'Stylo'])\n",
    "\n",
    "svenska_lane_ord = svenska_ord.intersection(franska_ord)\n",
    "print(f'Låneord: {svenska_lane_ord}')\n",
    "\n",
    "svenska_unika_ord = svenska_ord.difference(franska_ord)\n",
    "print(f'Unika ord: {svenska_unika_ord}')"
   ]
  },
  {
   "cell_type": "markdown",
   "metadata": {},
   "source": [
    "## Filhantering\n",
    "Filhantering är nödvändigt att förstå, eftersom att vi vill kunna spara undan information efter vårt pythonprogram är färdigexekverat eller har stängts ner. Informationen som vi hitills har arbetat med är vad vi kallar för `statisk` information, eftersom den är hårdkodad i programmet."
   ]
  },
  {
   "cell_type": "code",
   "execution_count": null,
   "metadata": {
    "tags": []
   },
   "outputs": [],
   "source": [
    "# Filhantering exempel #1\n",
    "\n",
    "# Det finns flera sätt att öppna upp filer med python, men det är ett sätt som är mer säkert än de andra, och det är den jag tänker visa er.\n",
    "\n",
    "with open('./static/love-letter.txt', mode='r', encoding='utf-8') as file:\n",
    "    content = file.read()\n",
    "    print(content)"
   ]
  },
  {
   "cell_type": "code",
   "execution_count": null,
   "metadata": {
    "tags": []
   },
   "outputs": [],
   "source": [
    "# Filhantering exempel #2\n",
    "\n",
    "# När du väl har öppnat och läst innehållet i filen, så är det väldigt ofta redan en string-datatyp, vilket betyder att du kan använda de metoder som finns associerat till strings.\n",
    "# https://docs.python.org/3.6/library/stdtypes.html#string-methods\n",
    "\n",
    "words_from_letter = content.split()\n",
    "print(f'The love letter containted {len(words_from_letter)} words')"
   ]
  },
  {
   "cell_type": "code",
   "execution_count": null,
   "metadata": {
    "tags": []
   },
   "outputs": [],
   "source": [
    "# Filhantering exempel #3\n",
    "\n",
    "# beroende på hur filen ser ut, så behöver man analysera hur man ska dela upp informationen till sina beståndsdelar!\n",
    "\n",
    "# grades.csv ser ut såhär:\n",
    "\"\"\"\n",
    "\"Last name\", \"First name\", \"SSN\",        \"Test1\", \"Test2\", \"Test3\", \"Final\", \"Grade\"\n",
    "\"Alfalfa\",   \"Aloysius\",   \"123-45-6789\", 40.0,    90.0,   100.0,    49.0,   \"D-\"\n",
    "\"Alfred\",    \"University\", \"123-12-1234\", 41.0,    97.0,    96.0,    48.0,   \"D+\"\n",
    "\"\"\"    \n",
    "\n",
    "# Vilken av följande funktionerna A, B, C är den \"rätta\" för grades.csv ovan?\n",
    "# Alla fungerar, men kommer att displaya annorlunda svar\n",
    "\n",
    "picked_function = '-'\n",
    "\n",
    "from helpers.student import Student\n",
    "\n",
    "def func_A(data, output):\n",
    "    headers = data.readline()\n",
    "    for line in data.readlines():\n",
    "        row = line.split(', ')\n",
    "        \n",
    "        new_student = Student(row)\n",
    "        output.append(new_student)\n",
    "\n",
    "def func_B(data, output):\n",
    "    for line in data.readlines():\n",
    "        row = line.split()\n",
    "\n",
    "        new_student = Student(row)\n",
    "        output.append(new_student)\n",
    "\n",
    "def func_C(data, output):\n",
    "    for line in data.readlines():\n",
    "        row = line.strip()\n",
    "\n",
    "        new_student = Student(row)\n",
    "        output.append(new_student)\n",
    "\n",
    "# En pseudofunction som bestämmer vilken funktion som skall användas\n",
    "# utifrån funktions-dictionaryn\n",
    "def separator(func, data, output):\n",
    "    functions = {\n",
    "        'A': func_A,\n",
    "        'B': func_B,\n",
    "        'C': func_C\n",
    "    }\n",
    "    return functions[func](data, output)\n",
    "    \n",
    "# Vår huvudfunktion som öppnar upp .csv filen och försöker printa ut saker från datan\n",
    "def getData():\n",
    "    data = []\n",
    "    try:\n",
    "        with open(file = './static/grades.csv', mode = 'r') as _file:\n",
    "            separator(picked_function, _file, data)\n",
    "    except Exception as message:\n",
    "        print(f'Error: {message}')\n",
    "    finally:\n",
    "        for item in data:\n",
    "            print(item)\n",
    "\n",
    "getData()\n"
   ]
  },
  {
   "cell_type": "markdown",
   "metadata": {},
   "source": [
    "### Finns det enklare lösningar än tidigare?\n",
    "__Ja__ det gör det. Det finns många moduler som kan göra jobbet åt oss.\n",
    "CSV-filer är en populär filtyp som används i Microsoft Excel och går att öppna upp genom moduler såsom:\n",
    "`csv`, `pandas` m.m\n",
    "\n",
    "Andra populära filtyper är:\n",
    "`.json` med sin modul `json` eller `simple-json`\n"
   ]
  },
  {
   "cell_type": "code",
   "execution_count": null,
   "metadata": {
    "tags": []
   },
   "outputs": [],
   "source": [
    "import csv\n",
    "from helpers.student import Student\n",
    "\n",
    "with open('./static/grades.csv') as _file:\n",
    "    data = []\n",
    "    # Läser in csv-filen till ett csv-objekt\n",
    "    csv_reader = csv.reader(_file)\n",
    "    for index, row in enumerate(csv_reader, 0):\n",
    "        if index == 0: continue # Vad gör den här raden?\n",
    "        new_student = Student(row)\n",
    "        data.append(new_student)\n",
    "    \n",
    "    for item in data:\n",
    "        print(item)"
   ]
  },
  {
   "cell_type": "code",
   "execution_count": null,
   "metadata": {},
   "outputs": [],
   "source": []
  }
 ],
 "metadata": {
  "kernelspec": {
   "display_name": "Python 3",
   "language": "python",
   "name": "python3"
  },
  "language_info": {
   "codemirror_mode": {
    "name": "ipython",
    "version": 3
   },
   "file_extension": ".py",
   "mimetype": "text/x-python",
   "name": "python",
   "nbconvert_exporter": "python",
   "pygments_lexer": "ipython3",
   "version": "3.8.5"
  }
 },
 "nbformat": 4,
 "nbformat_minor": 4
}
