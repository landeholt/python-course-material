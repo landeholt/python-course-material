{
 "cells": [
  {
   "cell_type": "markdown",
   "metadata": {},
   "source": [
    "## Övning #4\n",
    "### 18 September 2020\n",
    "\n",
    "#### Agenda för idag:\n",
    "- Förstå klasser och deras objekt\n",
    "    - `Laboration 6` kommer handla om klasser\n",
    "    - Varför?\n",
    "    - Instansiering, hur?\n",
    "    - Instansvariabler & instansmetoder\n",
    "    - Konstruktorn, vad?"
   ]
  },
  {
   "cell_type": "markdown",
   "metadata": {},
   "source": [
    "## Varför?\n",
    "\n",
    "I tidigare övningar har ni sett mig importera in hjälp-moduler såsom `Human` och `Student`.\n",
    "\n",
    "Dessa moduler har varit `klasser` som hjälpt mig strukturera objekt på ett specifikt sätt.\n",
    "\n",
    "### Här är en variant av Human klassen:"
   ]
  },
  {
   "cell_type": "code",
   "execution_count": 1,
   "metadata": {
    "tags": []
   },
   "outputs": [
    {
     "name": "stdout",
     "output_type": "stream",
     "text": [
      "<Human name: John Landeholt, age: 25>\n",
      "27.45\n"
     ]
    }
   ],
   "source": [
    "# Klass exempel #1\n",
    "\n",
    "# instansmetoder som ser ut såhär `__XXX__` kallas för magic methods och de används för\n",
    "# att berätta för python att programmet vill använda sig utav någon inbyggd funktion.\n",
    "# Mer går att läsa här: https://rszalski.github.io/magicmethods/\n",
    "\n",
    "class Human:\n",
    "    # Detta är vad som kallas för konstruktorn\n",
    "    # Denna instansmetoden är vad som exekveras när du instansierar ett objekt (en instans)\n",
    "    def __init__(self, name=None, age=-1, height=-1, weight=-1):\n",
    "        # self är datatypen som förklarar för python är det är instans-specifikt.\n",
    "        # Allt inuti en klass instansmetoder sker på ett unikt objekt (en instans)\n",
    "        self.name = name\n",
    "        self.age = int(age)\n",
    "        self.height = int(height)\n",
    "        self.weight = int(weight)\n",
    "    # Denna instansmetoden representerar vad objekten innehåller genom att returna en string som programeraren själv väljer\n",
    "    def __repr__(self):\n",
    "        # Ett dynamiskt sätt att ta reda på vad klassen heter \n",
    "        # ( går också att bara skriva Human om man så vill )\n",
    "        # exekveras när objektet printas (även när det är nestat i listor)\n",
    "        class_name = self.__class__.__name__\n",
    "        return f'<{class_name} name: {self.name}, age: {self.age}>'\n",
    "    \n",
    "    # Det går också att skriva egna instansmetoder som du kan kalla på dina Human-objekt\n",
    "    def getBMI(self):\n",
    "        # bmi-formel: https://sv.wikipedia.org/wiki/BMI_(kroppsmasseindex)\n",
    "        bmi = self.weight / (self.height / 100) ** 2\n",
    "        return round(bmi, 2)\n",
    "\n",
    "human_object = Human('John Landeholt', 25, 177, 86)\n",
    "\n",
    "print(human_object)\n",
    "print(human_object.getBMI())"
   ]
  },
  {
   "cell_type": "code",
   "execution_count": 2,
   "metadata": {
    "tags": []
   },
   "outputs": [
    {
     "name": "stdout",
     "output_type": "stream",
     "text": [
      "<Student name: Jane Doe, age: 25>\n",
      "set grade: A in course: DD1315 for: Jane Doe\n"
     ]
    }
   ],
   "source": [
    "# Klass exempel #2\n",
    "\n",
    "# En klass kan vara en super-klass av en annan klass\n",
    "# I detta fall är Student en super-klass av Human.\n",
    "# En student måste vara en människa, men en människa behöver i\n",
    "# nödvändigtvis vara en student.\n",
    "class Student(Human):\n",
    "    def __init__(self, programme=None, year=-1, name=None, age=-1, height=-1, weight=-1):\n",
    "        self.programme = programme\n",
    "        self.year = year\n",
    "        self.courses = {}\n",
    "        super().__init__(name, age, height, weight)\n",
    "\n",
    "    def attend_course(self, course):\n",
    "        self.courses[course.code] = course\n",
    "\n",
    "    # Försöker att hitta en course-instans med koden som söks\n",
    "    # Om den hittas, så breakas for loopen och går vidare\n",
    "    # för att lägga till betyget till course-instansen\n",
    "    def set_grade(self, course, grade):\n",
    "        found_course = None\n",
    "        for _course in self.courses.values():\n",
    "            if _course.code == course:\n",
    "                found_course = _course\n",
    "                break\n",
    "        if found_course == None: return print(f'No course with code {course} found.')\n",
    "        \n",
    "        found_course.set_grade(grade)\n",
    "        print(f'set grade: {grade} in course: {_course.code} for: {self.name}')\n",
    "\n",
    "    def get_GPA(self):\n",
    "        points = 0\n",
    "        for course in self.courses.values():\n",
    "            if course.grade == 'A': points += 5.0\n",
    "            elif course.grade == 'B': points += 4.5\n",
    "            elif course.grade == 'C': points += 4.0\n",
    "            elif course.grade == 'D': points += 3.5\n",
    "            elif course.grade == 'E': points += 3.0\n",
    "        gpa = points / len(self.courses)\n",
    "        return gpa\n",
    "# En klass kan använda sig utav andra klasser\n",
    "class Course:\n",
    "    def __init__(self, code=None):\n",
    "        self.code = code\n",
    "        self.grade = None\n",
    "\n",
    "    def set_grade(self, grade):\n",
    "        self.grade = grade\n",
    "    \n",
    "    def get_grade(self):\n",
    "        return self.grade\n",
    "\n",
    "    def __repr__(self):\n",
    "        return f'<Course code: {self.code}, grade: {self.grade}>'\n",
    "\n",
    "new_student = Student('Cinek', 2020, 'Jane Doe', 25, 168, 60)\n",
    "new_course = Course('DD1315')\n",
    "\n",
    "new_student.attend_course(new_course)\n",
    "print(new_student)\n",
    "\n",
    "new_student.set_grade('DD1315', 'A')"
   ]
  },
  {
   "cell_type": "markdown",
   "metadata": {},
   "source": [
    "#### Vad tjänar jag på att göra det så här?\n",
    "__TID!__ Du sparar enormt mycket tid genom att tänka objekt-orienterat!\n",
    "\n",
    "Det kanske inte ser så ut nu med endast en instans av klassen. Men det positiva med klasser är att de är byggda för att återanvändas!"
   ]
  },
  {
   "cell_type": "code",
   "execution_count": 3,
   "metadata": {
    "tags": []
   },
   "outputs": [
    {
     "name": "stdout",
     "output_type": "stream",
     "text": [
      "set grade: D in course: DD1315 for: Alice\n",
      "set grade: B in course: ME1309 for: John\n",
      "set grade: E in course: SF1625 for: John\n",
      "set grade: F in course: ME1309 for: Annie\n",
      "set grade: A in course: SF1625 for: Annie\n",
      "set grade: A in course: DD1315 for: Bob\n",
      "set grade: D in course: DD1315 for: Ken\n",
      "set grade: C in course: ME1309 for: Ada\n",
      "set grade: D in course: SF1625 for: George\n",
      "set grade: A in course: DD1315 for: George\n",
      "set grade: E in course: ME1309 for: My\n",
      "set grade: F in course: DD1315 for: My\n",
      "Alice has 3.5 in gpa\n",
      "John has 3.75 in gpa\n",
      "Annie has 2.5 in gpa\n",
      "Bob has 5.0 in gpa\n",
      "Ken has 3.5 in gpa\n",
      "Ada has 4.0 in gpa\n",
      "George has 4.25 in gpa\n",
      "My has 1.5 in gpa\n"
     ]
    }
   ],
   "source": [
    "# Klasser exempel #3\n",
    "\n",
    "from random import randint\n",
    "\n",
    "grades = 'ABCDEF'\n",
    "\n",
    "names = [\n",
    "    'Alice',\n",
    "    'John',\n",
    "    'Annie',\n",
    "    'Bob',\n",
    "    'Ken',\n",
    "    'Ada',\n",
    "    'George',\n",
    "    'My'\n",
    "]\n",
    "\n",
    "courses = [\n",
    "    'ME1309',\n",
    "    'DD1315',\n",
    "    'SF1625'\n",
    "]\n",
    "\n",
    "###### HÄR BÖRJAR EXEMPLET ######\n",
    "\n",
    "students = []\n",
    "for name in names:\n",
    "    # Skapar en unik student, där varje student i det här exemplet råkar\n",
    "    # ha samma ålder, längd och vikt, då det är kurserna som är av vikt i detta\n",
    "    # exempel\n",
    "    new_student = Student('Cinek', 2020, name, 20, 170, 65)\n",
    "\n",
    "    # Ger studenten ett slumpmässigt antal kurser\n",
    "    # och betyg i de kurserna\n",
    "    # av konvention brukar man använda _ när iterationsvariablen inte används inuti loopen\n",
    "    for _ in range(randint(1, 2)):\n",
    "        g = randint(0, len(grades) - 1)\n",
    "        c = randint(0, len(courses) - 1)\n",
    "        code = courses[c]\n",
    "        grade = grades[g]\n",
    "\n",
    "        new_course = Course(code)\n",
    "        new_student.attend_course(new_course)\n",
    "        new_student.set_grade(code, grade)\n",
    "    \n",
    "    # Sparar undan dem i en lista\n",
    "    students.append(new_student)\n",
    "\n",
    "# tar reda på respektive students \"GPA\"\n",
    "for student in students:\n",
    "    gpa = student.get_GPA()\n",
    "    print(f'{student.name} has {gpa} in gpa')\n"
   ]
  },
  {
   "cell_type": "code",
   "execution_count": null,
   "metadata": {},
   "outputs": [],
   "source": []
  }
 ],
 "metadata": {
  "kernelspec": {
   "display_name": "Python 3",
   "language": "python",
   "name": "python3"
  },
  "language_info": {
   "codemirror_mode": {
    "name": "ipython",
    "version": 3
   },
   "file_extension": ".py",
   "mimetype": "text/x-python",
   "name": "python",
   "nbconvert_exporter": "python",
   "pygments_lexer": "ipython3",
   "version": "3.8.5"
  }
 },
 "nbformat": 4,
 "nbformat_minor": 4
}
