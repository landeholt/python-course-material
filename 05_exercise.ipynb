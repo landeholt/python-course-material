{
 "metadata": {
  "language_info": {
   "codemirror_mode": {
    "name": "ipython",
    "version": 3
   },
   "file_extension": ".py",
   "mimetype": "text/x-python",
   "name": "python",
   "nbconvert_exporter": "python",
   "pygments_lexer": "ipython3",
   "version": 3
  },
  "orig_nbformat": 2,
  "kernelspec": {
   "name": "python_defaultSpec_1597047076445",
   "display_name": "Python 3.6.5 64-bit"
  }
 },
 "nbformat": 4,
 "nbformat_minor": 2,
 "cells": [
  {
   "cell_type": "markdown",
   "metadata": {},
   "source": [
    "## Övning #5\n",
    "### 25 September 2020\n",
    "\n",
    "#### Agenda för idag:\n",
    "- Test 5\n",
    "- fortsättning av klasser\n",
    "    - `Laboartion 6` kommer handla om klasser\n",
    "    - magic methods\n",
    "    - privata / publika metoder och variabler\n",
    "- förstå oss på lambda (`kan komma att användas i laboration 6`)\n",
    "- Felhantering\n"
   ]
  },
  {
   "cell_type": "markdown",
   "metadata": {},
   "source": [
    "## Klasser (fortsättning)"
   ]
  },
  {
   "cell_type": "code",
   "execution_count": null,
   "metadata": {
    "tags": []
   },
   "outputs": [],
   "source": [
    "# Klasser exempel #4\n",
    "import operator # En inbyggd modul som hjälper med att dynamiskt ange aritmetiska operationer, så de går att skicka som inparametrar\n",
    "\n",
    "class LA: # short for linear algebra\n",
    "\n",
    "    def __init__(self, values):\n",
    "        self.values = values\n",
    "    \n",
    "    # En statisk metod som en funktion du kan applicera\n",
    "    # utan att behöva en instans av klassen.\n",
    "    # därför behövs inte self som parameter, då det inte är\n",
    "    # en instans av klassen, utan endast en funktion/metod till\n",
    "    # klassen\n",
    "    @staticmethod\n",
    "    def toArray(_list):\n",
    "        if type(_list) == list: return LA(_list)\n",
    "\n",
    "    @staticmethod\n",
    "    def sum(_list):\n",
    "        if isinstance(_list, LA):\n",
    "            return sum(_list.values)\n",
    "\n",
    "    def __mul__(self, other):\n",
    "        return self.__arithmetic(other, operator.mul)\n",
    "\n",
    "    \n",
    "    def __add__(self, other):\n",
    "        return self.__arithmetic(other, operator.add)\n",
    "\n",
    "    \n",
    "    def __sub__(self, other):\n",
    "        return self.__arithmetic(other, operator.sub)\n",
    "\n",
    "    # Privat metod som endast kan användas inom klassen\n",
    "    def __arithmetic(self, other, operator):\n",
    "        if len(self) == len(other):\n",
    "            values = zip(self.values, other.values)\n",
    "            newValues = [operator(num[0],num[1]) for num in values]\n",
    "            return LA(newValues)\n",
    "\n",
    "    def size(self):\n",
    "        return len(self)\n",
    "\n",
    "    def __len__(self):\n",
    "        return len(self.values)\n",
    "\n",
    "    def __repr__(self):\n",
    "        return f'<LA-array {self.values}>'\n",
    "\n",
    "vectorOne = LA.toArray([1,2,0,4])\n",
    "print(vectorOne)\n",
    "\n",
    "vectorThree = vectorOne * vectorOne\n",
    "print(vectorThree)\n",
    "print(LA.sum(vectorThree))\n",
    "\n"
   ]
  },
  {
   "cell_type": "code",
   "execution_count": null,
   "metadata": {
    "tags": []
   },
   "outputs": [],
   "source": [
    "# Klasser exempel #5 - Laboration 5\n",
    "\n",
    "class Country:\n",
    "\n",
    "    def __init__(self, name, area, population):\n",
    "        self.name = name\n",
    "        self.area = float(area)\n",
    "        self.population = int(population)\n",
    "        self.density = self.getDensity()\n",
    "\n",
    "    def getDensity(self):\n",
    "        return round(self.population / self.area, 1)\n",
    "\n",
    "    def __str__(self):\n",
    "        return f'{self.name:<20} {self.area:<12} {self.population:<15} {self.density}'\n",
    "    \n",
    "    def __repr__(self):\n",
    "        return f'<Country: {self.name}>'\n",
    "\n",
    "# Detta kallas för en wrapper. Går att tänka som att du lägger\n",
    "# till extra funktionalitet till något redan existerande\n",
    "# som i detta fall är det en wrapper till open-funktionaliteten\n",
    "class Europe:\n",
    "    def __init__(self, fileName):\n",
    "        try:\n",
    "            self.f = open(fileName, mode='r', encoding='utf-8')\n",
    "            print(f'Country{\"\":>13} Area{\"\":>8} Population {\"\":>4} Density\\n')\n",
    "            self.countries = []\n",
    "        except FileNotFoundError:\n",
    "            return\n",
    "\n",
    "    # magic method som används utav \"with\"\n",
    "    def __enter__(self):\n",
    "        for c in self.f.readlines():\n",
    "            name, area, pop = c.split(',')\n",
    "            name, area, pop = name.strip(), area.strip(), pop.strip()\n",
    "            self.countries.append(Country(name, area, pop))\n",
    "        return self.countries\n",
    "\n",
    "    # magic method som används utav \"with\"\n",
    "    def __exit__(self, exc_type, exc_val, traceback):\n",
    "        try:\n",
    "            self.f.close()\n",
    "        except AttributeError:\n",
    "            return True\n",
    "\n",
    "with Europe('./static/europa.txt') as eu:\n",
    "\n",
    "    # sorterar eu-listan med hjälp av lambda\n",
    "    eu = sorted(eu, key=lambda c: c.density)\n",
    "\n",
    "    for country in eu: print(country)"
   ]
  },
  {
   "cell_type": "markdown",
   "metadata": {},
   "source": [
    "## lambda\n",
    "### Vad är lambda?\n",
    "Lambda är ett sätt att skriva en funktion, oftast på en rad.\n",
    "\n",
    "Skillnaden mellan en vanlig funktion och `lambda` är att `lambda` endast har ett `expression` (vad som returnas)\n",
    "\n",
    "Du skriver en lambda funktion på följande vis:\n",
    "\n",
    "`lambda` *arguments* : *expression*"
   ]
  },
  {
   "cell_type": "code",
   "execution_count": null,
   "metadata": {
    "tags": []
   },
   "outputs": [],
   "source": [
    "# lambda exempel #1\n",
    "\n",
    "# det funktions-ekvivalenta\n",
    "def f_add(a, b): return a + b\n",
    "\n",
    "l_add = lambda a, b : a + b\n",
    "\n",
    "if f_add(5,5) == l_add(5,5): print('They work the same')\n",
    "\n"
   ]
  },
  {
   "cell_type": "markdown",
   "metadata": {},
   "source": [
    "### Vad används lambda för?\n",
    "\n",
    "`Lambda` funktioner skapar `hemliga` funktioner. Det går att tänka sig att dessa hemliga funktioner är till för att hjälpa huvudfunktionen, men inte ska användas ensamt."
   ]
  },
  {
   "cell_type": "code",
   "execution_count": null,
   "metadata": {
    "tags": []
   },
   "outputs": [],
   "source": [
    "# lambda exempel #2\n",
    "\n",
    "addOne = lambda x : x + 1\n",
    "\n",
    "numbers = [10, 4, 5, 8]\n",
    "\n",
    "# map är huvudfunktionen, lambda är hjälpfunktionen\n",
    "newNumbers = list(map(addOne, numbers))\n"
   ]
  },
  {
   "cell_type": "code",
   "execution_count": null,
   "metadata": {
    "tags": []
   },
   "outputs": [],
   "source": [
    "# lambda exempel #3\n",
    "\n",
    "with Europe('./static/europa.txt') as eu:\n",
    "    areaFilter = lambda c : c.area < 5000\n",
    "    smallCountries = list(filter(areaFilter, eu))\n",
    "    for country in smallCountries:\n",
    "        print(country)"
   ]
  },
  {
   "cell_type": "markdown",
   "metadata": {},
   "source": [
    "### Lambda är inte magiskt!\n",
    "\n",
    "Du kan i många av fallen använda vanliga funktioner istället för lambda, men det är bra att förstå poängen med lambda, vilket är att det endast ska användas inuti specifika funktioner."
   ]
  },
  {
   "cell_type": "code",
   "execution_count": null,
   "metadata": {
    "tags": []
   },
   "outputs": [],
   "source": [
    "# lambda exempel #3 - utan lambda\n",
    "\n",
    "# problemet med denna approach är att du kan återanvända funktionen utanför användningsområdet den är tänkt för\n",
    "def areaFilterFunc(c): return c.area < 5000\n",
    "\n",
    "with Europe('./static/europa.txt') as eu:\n",
    "    smallCountries = list(filter(areaFilterFunc, eu))\n",
    "    for country in smallCountries:\n",
    "        print(country)"
   ]
  },
  {
   "cell_type": "code",
   "execution_count": null,
   "metadata": {
    "tags": []
   },
   "outputs": [],
   "source": [
    "# lambda exempel #4\n",
    "from helpers.coordinates import Stockholm # egen gjord modul som liknar Europe-klassen\n",
    "\n",
    "lat, lon = 59.3466893, 18.0738567\n",
    "\n",
    "with Stockholm('./static/map.json') as sthlm:\n",
    "    streets = sthlm.getStreets()\n",
    "    distance = lambda s : s.computeDistance(lat, lon)\n",
    "\n",
    "    streetsNear = list(map(distance, streets))\n",
    "    streetsNear.sort(key = lambda s : s.distance)\n",
    "    for street in streetsNear[:10]:\n",
    "        print(street)\n",
    "\n"
   ]
  },
  {
   "cell_type": "markdown",
   "metadata": {},
   "source": [
    "## Felhantering\n",
    "\n",
    "### Vad är det nödvändigt för?\n",
    "\n",
    "Utan felhantering kan ditt första python-program se ut som en riktig __spagetti-kod__ om du ska försöka parera alla olika fel genom if-satser.\n",
    "\n",
    "Ett mer *korrekt* och programatiskt sätt är att göra det med *`try`*/*`except`* satser. Det magiska med detta är att alla \"fel\" fångas upp av except som försöker exekveras i try-satsen"
   ]
  },
  {
   "cell_type": "code",
   "execution_count": null,
   "metadata": {
    "tags": []
   },
   "outputs": [],
   "source": [
    "# Felhantering exempel #1\n",
    "\n",
    "try:\n",
    "    print(42 / 0)\n",
    "except Exception as exc:\n",
    "    print(exc)"
   ]
  },
  {
   "cell_type": "markdown",
   "metadata": {},
   "source": [
    "Du skriver den kod du vill `försöka` exekvera i try-satsen,\n",
    "sedan fångar du upp alla möjliga fel med except-satsen.\n",
    "\n",
    "I exempel #1 görs detta genom det generella fallet `exception` som är __basfallet__ för alla fel.\n",
    "\n",
    "När man skriver `except X as Y` så får man felmeddelandet i Y-variabeln."
   ]
  },
  {
   "cell_type": "code",
   "execution_count": null,
   "metadata": {
    "tags": []
   },
   "outputs": [],
   "source": [
    "# Felhantering exempel #2 - med klasser\n",
    "from enum import Enum\n",
    "\n",
    "# Enum är ett sätt att programatiskt ange statiska key-value-pairs \n",
    "class grade(Enum):\n",
    "    A = 5\n",
    "    B = 4.5\n",
    "    C = 4\n",
    "    D = 3.5\n",
    "    E = 3\n",
    "    F = 0\n",
    "\n",
    "# Egengjord exception som byggs på från basfallet exception\n",
    "class NotTeacher(Exception):\n",
    "    pass\n",
    "\n",
    "# En simpel User class, där man kan vara lärare eller inte\n",
    "class User:\n",
    "    def __init__(self, name, teacher = False):\n",
    "        self.name = name\n",
    "        self.teacher = teacher\n",
    "        self.grade = None\n",
    "\n",
    "    def isTeacher(self):\n",
    "        return self.teacher\n",
    "    \n",
    "    def setGrade(self, g):\n",
    "        self.grade = g\n",
    "    \n",
    "    def getGrade(self):\n",
    "        return self.grade\n",
    "    \n",
    "    def __repr__(self):\n",
    "        return f'<User name: {self.name}, grade: {self.grade}>'\n",
    "\n",
    "\n",
    "\n",
    "users = [User('John', True), User('Alice')]\n",
    "\n",
    "def gradeUser(teacher, student):\n",
    "    try:\n",
    "        if not teacher.isTeacher(): raise NotTeacher(f'{teacher.name} is not a Teacher')\n",
    "        student.setGrade(grade.A)\n",
    "    except Exception as exc:\n",
    "        print(exc)\n",
    "\n",
    "gradeUser(users[0], users[1])\n",
    "print(users)\n",
    "gradeUser(users[1], users[0])\n",
    "print(users)\n",
    "\n"
   ]
  },
  {
   "cell_type": "code",
   "execution_count": null,
   "metadata": {},
   "outputs": [],
   "source": []
  }
 ]
}