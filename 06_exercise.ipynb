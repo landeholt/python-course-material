{
 "cells": [
  {
   "cell_type": "markdown",
   "metadata": {},
   "source": [
    "## Övning #6\n",
    "### 02 October 2020\n",
    "\n",
    "#### Agenda för idag:\n",
    "- Labbarna är klara, vad händer härnäst?\n",
    "    - Projektet\n",
    "    - Matlab\n",
    "- Prata om strategier inför projektet\n",
    "- Påbörjan till p-uppgiften Yatzy"
   ]
  },
  {
   "cell_type": "code",
   "execution_count": 9,
   "metadata": {},
   "outputs": [],
   "source": [
    "# presentationsverktyg\n",
    "groups = {'E': ['Max Aronsson',\n",
    "              'Annie Dang',\n",
    "              'Filip Engdahl',\n",
    "              'Theodor Eriksson',\n",
    "              'Nils Grenmark',\n",
    "              'Nora Gullberg',\n",
    "              'Theodor Hagström',\n",
    "              'Philip Hörnfeldt',\n",
    "              'Joel Lindgren',\n",
    "              'Oliver Midbrink',\n",
    "              'Isak Nordgren',\n",
    "              'Erik Råberg',\n",
    "              'Simon Sandberg',\n",
    "              'Hampus Svensson',\n",
    "              'Marcus Wahlman',\n",
    "              'Melker Widlund',\n",
    "              'Ella raud'], # tillhör egentligen J\n",
    "        'J': ['Matilda Caddeo',\n",
    "             'Oscar Ekehed Jakobsson',\n",
    "             'Johan Flöjs',\n",
    "             'Jonathan Herrgård',\n",
    "             'William Ivegren',\n",
    "             'Emil Johansson',\n",
    "             'Ludvig Karlsson',\n",
    "             'Gustav Wilhelm Kopp Sundin',\n",
    "             'Nora Moro',\n",
    "             'Anna Möller',\n",
    "             'Axel Nilsson',\n",
    "             'Teodor Nymark',\n",
    "             'Viktor Rasmussen',\n",
    "             'Johannes Rosing',\n",
    "             'Jonathan Schiött',\n",
    "             'Jakob Venema Holmgren']\n",
    "        }\n",
    "import random\n",
    "\n",
    "def getCandidateFrom(groupLetter):\n",
    "    g = groups[groupLetter]\n",
    "    candidateIndex = random.randint(0,len(g))\n",
    "    candidate = g.pop(candidateIndex)\n",
    "    return candidate"
   ]
  },
  {
   "cell_type": "code",
   "execution_count": null,
   "metadata": {},
   "outputs": [],
   "source": [
    "group = 'E'\n",
    "\n",
    "print(getCandidateFrom(group))\n"
   ]
  },
  {
   "cell_type": "markdown",
   "metadata": {},
   "source": [
    "## Projektet\n",
    "Tidigare års olika p-uppgifter:\n",
    "[https://drive.google.com/file/d/1UapF6pB1eOQzkg9Ds9Jbo-Hwc0JQJQhm/view?usp=sharing](https://drive.google.com/file/d/1UapF6pB1eOQzkg9Ds9Jbo-Hwc0JQJQhm/view?usp=sharing)\n",
    "###### (Kommer även skicka denna länk i vår messenger grupp)\n",
    "Varje projekt kommer att kunna ge betyget __E-A__ och kommer att ha delar som möjliggör att dessa nivåer kommer att uppnås. __Olika projekt har olika svårighetsgrader.__ Detta är däremot högst en personlig fråga.\n",
    "\n",
    "Vi kommer att hädanefter under övningarna samarbeta med att göra en gammal (relativt enkel) p-uppgift från 2013."
   ]
  },
  {
   "cell_type": "markdown",
   "metadata": {},
   "source": [
    "## Hur börjar jag med en p-uppgift?\n",
    "Det viktigaste enligt mig (alltså inte fakta) är att hitta en uppgift som du personligen tycker låter rolig. Inte bara för att den anses vara enkel!\n",
    "\n",
    "1. Läs uppgiftslydelsen\n",
    "    1. Tolka problemet\n",
    "    2. Bryt ner problemet till tydligt avskilda delar\n",
    "    3. Iterera om\n",
    "2. Utför en highlevel approach\n",
    "    - Vilka delar kommer behövas?\n",
    "    - Hur ser programflödet ut?\n",
    "    - Vad är input och output?\n",
    "    - Vad kommer att sparas och manipuleras?\n",
    "3. Skriv en programspecifikation\n",
    "    - Utifrån highlevel approachen ovan\n",
    "4. Börja pröva dig framåt\n",
    "    - Iteration är __lösningen__\n",
    "    - Du kommer inte lösa det på första iterationen. Inte andra. Kanske 10e.\n",
    "    - Lev in dig i hur användaren kommer att se programmet\n",
    "5. Gå inte direkt på A, utan arbeta __iterativt!__"
   ]
  },
  {
   "cell_type": "markdown",
   "metadata": {},
   "source": [
    "## 182 Yatzy\n",
    "[https://drive.google.com/file/d/14c_KFcpFPQ8HLlpo7pDur1cvW2EPLZhc/view?usp=sharing](https://drive.google.com/file/d/14c_KFcpFPQ8HLlpo7pDur1cvW2EPLZhc/view?usp=sharing)\n",
    "\n",
    "#### Vad handlar problemet om?"
   ]
  },
  {
   "cell_type": "markdown",
   "metadata": {},
   "source": [
    "#### Vilka delar kan vi hitta här? (tänk objektivt)"
   ]
  },
  {
   "cell_type": "markdown",
   "metadata": {
    "jupyter": {
     "outputs_hidden": true
    }
   },
   "source": [
    "#### Finns det några vägledningar i texten?"
   ]
  },
  {
   "cell_type": "markdown",
   "metadata": {},
   "source": [
    "___\n",
    "#### Vilka klasser kan vi konstruera för att lösa vårt projekt?\n",
    "\n",
    "#### Hur ser flödet ut?"
   ]
  },
  {
   "cell_type": "code",
   "execution_count": null,
   "metadata": {},
   "outputs": [],
   "source": []
  },
  {
   "cell_type": "code",
   "execution_count": null,
   "metadata": {},
   "outputs": [],
   "source": []
  }
 ],
 "metadata": {
  "kernelspec": {
   "display_name": "Python 3",
   "language": "python",
   "name": "python3"
  },
  "language_info": {
   "codemirror_mode": {
    "name": "ipython",
    "version": 3
   },
   "file_extension": ".py",
   "mimetype": "text/x-python",
   "name": "python",
   "nbconvert_exporter": "python",
   "pygments_lexer": "ipython3",
   "version": "3.8.5"
  }
 },
 "nbformat": 4,
 "nbformat_minor": 4
}
