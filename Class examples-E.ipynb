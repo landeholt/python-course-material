{
 "cells": [
  {
   "cell_type": "code",
   "execution_count": 7,
   "metadata": {},
   "outputs": [
    {
     "name": "stdout",
     "output_type": "stream",
     "text": [
      "Plugga envarren is due 2020-10-10. Plugga envarren is NORMAL. It was added 2020-10-07\n",
      "Välja p-uppgift is due 2020-10-12. Välja p-uppgift is NORMAL. It was added 2020-10-07\n"
     ]
    }
   ],
   "source": [
    "# Todolist implementation\n",
    "from enum import Enum\n",
    "import datetime\n",
    "\n",
    "class State(Enum):\n",
    "    URGENT = 0\n",
    "    NORMAL = 1\n",
    "    OPTIONAL = 2\n",
    "\n",
    "class Task:\n",
    "    def __init__(self, name, due, state = 'NORMAL'):\n",
    "        self.added = datetime.date.today()\n",
    "        self.name = name\n",
    "        self.due = due\n",
    "        self.state = state\n",
    "        self.isDone = False\n",
    "    def __repr__(self):\n",
    "        return f\"{self.name} is due {self.due}. {self.name} is {self.state}. It was added {self.added}\"\n",
    "\n",
    "    def mark_off(self):\n",
    "        self.isDone = True\n",
    "        print(f\"{self.name}-jäveln är färdig\")\n",
    "\n",
    "    def is_due(self):\n",
    "        if datetime.date.today() > self.due:\n",
    "            print(f\"{self.name} is due\")\n",
    "        else:\n",
    "            print(f\"{self.name} is not due\")\n",
    "\n",
    "    def change_state(self, to):\n",
    "        self.state = to\n",
    "    \n",
    "class Todo:\n",
    "    def __init__(self):\n",
    "        self.tasks_list = []\n",
    "    \n",
    "    def __repr__(self):\n",
    "        pass\n",
    "    \n",
    "    def add_item(self, item):\n",
    "         self.tasks_list.append(item)\n",
    "    \n",
    "    def change_item(self, item, change):\n",
    "        pass\n",
    "    \n",
    "    def add_from_file(self,file):\n",
    "        pass\n",
    "    \n",
    "    def save_to_file(self):\n",
    "        pass\n",
    "    \n",
    "    def auto_save(self):\n",
    "        pass\n",
    "    \n",
    "    def mark_off(self, item):\n",
    "        for i in self.tasks_list:\n",
    "            if i.name == item.name:\n",
    "                i.mark_off()\n",
    "                \n",
    "        #item.mark_off(self.tasks_list[self.tasks_list.index(item)])\n",
    "    \n",
    "    def find_items(self):\n",
    "        return self.tasks_list\n",
    "    \n",
    "    def __getitem__(self, key):\n",
    "        pass\n",
    "    \n",
    "    def __contains__(self, key):\n",
    "        pass\n",
    "\n",
    "# create items\n",
    "items = [{'name': 'Plugga envarren','due': datetime.date(2020, 10, 10)},\n",
    "        {'name': 'Välja p-uppgift', 'due': datetime.date(2020, 10, 12)},]\n",
    "\n",
    "# create todo\n",
    "t = Todo()\n",
    "\n",
    "for i in items:\n",
    "    item = Task(i['name'], i['due'])\n",
    "    t.add_item(item)\n",
    "\n",
    "for i in t.find_items():\n",
    "    print(i)"
   ]
  },
  {
   "cell_type": "code",
   "execution_count": 5,
   "metadata": {},
   "outputs": [],
   "source": [
    "\n"
   ]
  },
  {
   "cell_type": "code",
   "execution_count": null,
   "metadata": {},
   "outputs": [],
   "source": []
  }
 ],
 "metadata": {
  "kernelspec": {
   "display_name": "Python 3",
   "language": "python",
   "name": "python3"
  },
  "language_info": {
   "codemirror_mode": {
    "name": "ipython",
    "version": 3
   },
   "file_extension": ".py",
   "mimetype": "text/x-python",
   "name": "python",
   "nbconvert_exporter": "python",
   "pygments_lexer": "ipython3",
   "version": "3.8.5"
  }
 },
 "nbformat": 4,
 "nbformat_minor": 4
}
