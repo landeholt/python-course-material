{
 "cells": [
  {
   "cell_type": "code",
   "execution_count": 2,
   "metadata": {},
   "outputs": [
    {
     "ename": "TypeError",
     "evalue": "'NoneType' object is not iterable",
     "output_type": "error",
     "traceback": [
      "\u001b[0;31m---------------------------------------------------------------------------\u001b[0m",
      "\u001b[0;31mTypeError\u001b[0m                                 Traceback (most recent call last)",
      "\u001b[0;32m<ipython-input-2-4037da46aab9>\u001b[0m in \u001b[0;36m<module>\u001b[0;34m\u001b[0m\n\u001b[1;32m     72\u001b[0m     \u001b[0mt\u001b[0m\u001b[0;34m.\u001b[0m\u001b[0madd_task\u001b[0m\u001b[0;34m(\u001b[0m\u001b[0mtask\u001b[0m\u001b[0;34m)\u001b[0m\u001b[0;34m\u001b[0m\u001b[0;34m\u001b[0m\u001b[0m\n\u001b[1;32m     73\u001b[0m \u001b[0;34m\u001b[0m\u001b[0m\n\u001b[0;32m---> 74\u001b[0;31m \u001b[0;32mfor\u001b[0m \u001b[0mi\u001b[0m \u001b[0;32min\u001b[0m \u001b[0mt\u001b[0m\u001b[0;34m.\u001b[0m\u001b[0mfind_tasks\u001b[0m\u001b[0;34m(\u001b[0m\u001b[0;34m)\u001b[0m\u001b[0;34m:\u001b[0m\u001b[0;34m\u001b[0m\u001b[0;34m\u001b[0m\u001b[0m\n\u001b[0m\u001b[1;32m     75\u001b[0m     \u001b[0mprint\u001b[0m\u001b[0;34m(\u001b[0m\u001b[0mi\u001b[0m\u001b[0;34m)\u001b[0m\u001b[0;34m\u001b[0m\u001b[0;34m\u001b[0m\u001b[0m\n",
      "\u001b[0;31mTypeError\u001b[0m: 'NoneType' object is not iterable"
     ]
    }
   ],
   "source": [
    "# Todolist implementation\n",
    "from enum import Enum\n",
    "import datetime\n",
    "\n",
    "class State(Enum):\n",
    "    URGENT = 0\n",
    "    NORMAL = 1\n",
    "    OPTIONAL = 2\n",
    "\n",
    "class Task:\n",
    "    def __init__(self, name, due):\n",
    "        pass\n",
    "    def __repr__(self):\n",
    "        pass\n",
    "\n",
    "    # Sätt Task till markerad\n",
    "    def mark_off(self):\n",
    "        pass\n",
    "    # Returnera om Task är due eller inte\n",
    "    def is_due(self):\n",
    "        pass\n",
    "    # Byt state för Task\n",
    "    def change_state(self, to):\n",
    "        pass\n",
    "    \n",
    "class Todo:\n",
    "    def __init__(self):\n",
    "        pass\n",
    "    \n",
    "    def __repr__(self):\n",
    "        pass\n",
    "    # Lägg till task till en lista\n",
    "    def add_task(self, task):\n",
    "         pass\n",
    "        \n",
    "    # ändra någon information för något task\n",
    "    def change_task(self, task, change):\n",
    "        pass\n",
    "    \n",
    "    def add_from_file(self,file):\n",
    "        pass\n",
    "    \n",
    "    def save_to_file(self):\n",
    "        pass\n",
    "    \n",
    "    def auto_save(self):\n",
    "        pass\n",
    "    \n",
    "    # markera ett task som avklarat\n",
    "    def mark_off(self, task):\n",
    "        pass\n",
    "    \n",
    "    # Hitta alla tasks\n",
    "    def find_tasks(self):\n",
    "        pass\n",
    "    \n",
    "    def __getitem__(self, key):\n",
    "        pass\n",
    "    \n",
    "    def __contains__(self, key):\n",
    "        pass\n",
    "\n",
    "# create tasks\n",
    "tasks = [{'name': 'Plugga envarren','due': datetime.date(2020, 10, 10)},\n",
    "        {'name': 'Välja p-uppgift', 'due': datetime.date(2020, 10, 12)},]\n",
    "\n",
    "# create todo\n",
    "t = Todo()\n",
    "\n",
    "for i in tasks:\n",
    "    task = Task(i['name'], i['due'])\n",
    "    t.add_task(task)\n",
    "\n",
    "for i in t.find_tasks():\n",
    "    print(i)"
   ]
  },
  {
   "cell_type": "code",
   "execution_count": null,
   "metadata": {},
   "outputs": [],
   "source": []
  }
 ],
 "metadata": {
  "kernelspec": {
   "display_name": "Python 3",
   "language": "python",
   "name": "python3"
  },
  "language_info": {
   "codemirror_mode": {
    "name": "ipython",
    "version": 3
   },
   "file_extension": ".py",
   "mimetype": "text/x-python",
   "name": "python",
   "nbconvert_exporter": "python",
   "pygments_lexer": "ipython3",
   "version": "3.8.5"
  }
 },
 "nbformat": 4,
 "nbformat_minor": 4
}
