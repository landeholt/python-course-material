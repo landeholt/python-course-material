{
 "cells": [
  {
   "cell_type": "code",
   "execution_count": 5,
   "metadata": {},
   "outputs": [
    {
     "name": "stdout",
     "output_type": "stream",
     "text": [
      "[<Object name: Grekisk sallad ingr: paprika, feta ost>, <Object name: Ceasar sallad ingr: krutonger, isbergssallad, Kyckling>, <Object name: Kyckling sallad ingr: Kyckling, Tomat>]\n"
     ]
    }
   ],
   "source": [
    "# Koppling mellan klasser och funktioner\n",
    "\n",
    "class Object:\n",
    "    \"\"\"Ett generellt objekt som har attributen name och ingr (ingredients)\"\"\"\n",
    "    def __init__(self, name, ingr):\n",
    "        self.name = name\n",
    "        self.ingr = ingr\n",
    "    \n",
    "    def __repr__(self):\n",
    "        # en representationen av vårt object\n",
    "        return f'<Object name: {self.name} ingr: {\", \".join(self.ingr)}>'\n",
    "        \n",
    "def create_data():\n",
    "    # create_data skapar data (alternativt läser in från en fil) och returnerar datan i form av en lista\n",
    "    data = [(\"Grekisk sallad\",[\"paprika\", \"feta ost\"]), (\"Ceasar sallad\", [\"krutonger\", \"isbergssallad\", \"Kyckling\"]), (\"Kyckling sallad\", [\"Kyckling\", \"Tomat\"])]\n",
    "    return data\n",
    "\n",
    "def build_objects_from_data(data):\n",
    "    # build_objects_from_data tar in data som inparameter. Titta parentesen ovanför!\n",
    "    # använder sig utav datan som är en lista och skapar upp klass-instanser (objekt) ifrån dessa\n",
    "    objects = []\n",
    "    for d in data:\n",
    "        # Object behöver ett name och en ingredientlista.\n",
    "        objects.append(Object(d[0], d[1]))\n",
    "        \n",
    "    return objects\n",
    "\n",
    "def main():\n",
    "    # vi skapar datan\n",
    "    data = create_data()\n",
    "    # vi skapar object ifrån datan. Här är själva kopplingen. Pröva o se vad som händer om ni\n",
    "    # skriver objects = build_objects_from_data(create_data())\n",
    "    objects = build_objects_from_data(data)\n",
    "    print(objects)\n",
    "    \n",
    "if __name__ == \"__main__\":\n",
    "    main()"
   ]
  },
  {
   "cell_type": "code",
   "execution_count": 13,
   "metadata": {},
   "outputs": [
    {
     "name": "stdout",
     "output_type": "stream",
     "text": [
      "[ ,  ,  ,  ,  ]\n",
      "[ ,  ,  ,  ,  ]\n",
      "[ ,  ,  ,  ,  ]\n",
      "[ ,  ,  ,  ,  ]\n",
      "[ ,  ,  ,  ,  ]\n",
      "\n",
      "no can do\n",
      "[ ,  ,  ,  ,  ]\n",
      "[ ,  ,  ,  ,  ]\n",
      "[ ,  ,  ,  ,  ]\n",
      "[ ,  ,  ,  ,  ]\n",
      "[ ,  ,  ,  ,  ]\n"
     ]
    }
   ],
   "source": [
    "# Koppling mellan klasser\n",
    "class Tile:\n",
    "    \"\"\"En ruta till ett rutnät\"\"\"\n",
    "    def __init__(self, x, y, info):\n",
    "        self.x = x\n",
    "        self.y = y\n",
    "        self.info = info\n",
    "    def get_info(self):\n",
    "        pass\n",
    "    \n",
    "    def set_info(self, info):\n",
    "        # set_info kollar så att användaren inte skriver O. Om det sker varnas användaren,\n",
    "        # annars sätts infon till det som användaren väljer\n",
    "        if info == \"O\":\n",
    "            print(\"no can do\")\n",
    "        else:\n",
    "            self.info = info\n",
    "    \n",
    "    def __repr__(self):\n",
    "        return self.info\n",
    "\n",
    "class Board:\n",
    "    \"\"\" Ett brädspel som har ett rutnät med rutor\"\"\"\n",
    "    def __init__(self, n_size):\n",
    "        # vi skapar en matris till brädet\n",
    "        self.matrix = []\n",
    "        for x in range(n_size):\n",
    "            row = []\n",
    "            for y in range(n_size):\n",
    "                # Vi fyller på brädet med rutor som tar in x, y och information som indata\n",
    "                # Här sker initieras kopplingen mellan Board och Tile\n",
    "                row.append(Tile(x,y, \" \"))\n",
    "            self.matrix.append(row)\n",
    "        \n",
    "        \n",
    "    def print_board(self):\n",
    "        # Ett sätt att printa ut brädets alla rutor\n",
    "        for row in self.matrix:\n",
    "            print(row)\n",
    "        print()\n",
    "    \n",
    "    def set_marker(self,x,y,info):\n",
    "        # En metod som markerar en ruta och sen printar det uppdaterade brädet\n",
    "        # Titta på klassen Tiles metod set_info!\n",
    "        self.matrix[x][y].set_info(info)\n",
    "        self.print_board()\n",
    "\n",
    "\n",
    "# skapar upp ett 5x5 bräde\n",
    "b = Board(5)\n",
    "# visar brädet\n",
    "b.print_board()\n",
    "# markerar en vald koordinat med ett O\n",
    "b.set_marker(2,2,\"O\")\n",
    "            "
   ]
  },
  {
   "cell_type": "code",
   "execution_count": null,
   "metadata": {},
   "outputs": [],
   "source": []
  }
 ],
 "metadata": {
  "kernelspec": {
   "display_name": "Python 3",
   "language": "python",
   "name": "python3"
  },
  "language_info": {
   "codemirror_mode": {
    "name": "ipython",
    "version": 3
   },
   "file_extension": ".py",
   "mimetype": "text/x-python",
   "name": "python",
   "nbconvert_exporter": "python",
   "pygments_lexer": "ipython3",
   "version": "3.9.0"
  }
 },
 "nbformat": 4,
 "nbformat_minor": 4
}
